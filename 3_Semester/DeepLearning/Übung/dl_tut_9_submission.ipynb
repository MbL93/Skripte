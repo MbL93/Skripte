{
 "cells": [
  {
   "cell_type": "code",
   "execution_count": null,
   "metadata": {
    "colab": {
     "base_uri": "https://localhost:8080/",
     "height": 82
    },
    "colab_type": "code",
    "id": "EFPsgbEJ1eFL",
    "outputId": "6a38340d-22b1-46ea-c730-8b596d32f48b"
   },
   "outputs": [],
   "source": [
    "from keras.utils.data_utils import get_file\n",
    "import io"
   ]
  },
  {
   "cell_type": "code",
   "execution_count": null,
   "metadata": {
    "colab": {},
    "colab_type": "code",
    "id": "nMoFRf2z1eFW"
   },
   "outputs": [],
   "source": [
    "path = get_file(\n",
    "    'nietzsche.txt',\n",
    "    origin='https://s3.amazonaws.com/text-datasets/nietzsche.txt')\n",
    "with io.open(path, encoding='utf-8') as f:\n",
    "    text = f.read().lower()\n",
    "print('corpus length:', len(text))"
   ]
  },
  {
   "cell_type": "markdown",
   "metadata": {
    "colab": {},
    "colab_type": "code",
    "id": "qwOt8fc31eFe"
   },
   "source": [
    "Create a training data set of sentences of length 40"
   ]
  },
  {
   "cell_type": "code",
   "execution_count": null,
   "metadata": {
    "colab": {
     "base_uri": "https://localhost:8080/",
     "height": 159
    },
    "colab_type": "code",
    "id": "cwC0ZstK1eFk",
    "outputId": "5d1909fa-d969-4911-e128-d6d3787db2df"
   },
   "outputs": [],
   "source": []
  },
  {
   "cell_type": "markdown",
   "metadata": {
    "colab": {},
    "colab_type": "code",
    "id": "QMI7Co-K1eFp"
   },
   "source": [
    "Implement a LSTM-based RNN (hidden layer-size: 128)"
   ]
  },
  {
   "cell_type": "code",
   "execution_count": null,
   "metadata": {
    "colab": {},
    "colab_type": "code",
    "id": "8NaNVFkT1eFv"
   },
   "outputs": [],
   "source": []
  },
  {
   "cell_type": "markdown",
   "metadata": {
    "colab": {
     "base_uri": "https://localhost:8080/",
     "height": 35
    },
    "colab_type": "code",
    "id": "Rxuuj8ts1eFz",
    "outputId": "0caaa4fc-2f1f-4511-8383-7bd574b372de"
   },
   "source": [
    "Implement a method for temperature-based sampling"
   ]
  },
  {
   "cell_type": "code",
   "execution_count": null,
   "metadata": {
    "colab": {
     "base_uri": "https://localhost:8080/",
     "height": 1000
    },
    "colab_type": "code",
    "id": "Xk5yiqP11eF3",
    "outputId": "23271cfc-a408-4073-ee6b-0e2c89d25988"
   },
   "outputs": [],
   "source": []
  },
  {
   "cell_type": "markdown",
   "metadata": {
    "colab": {},
    "colab_type": "code",
    "id": "G55Ie1VaukMY"
   },
   "source": [
    "Implement a callback function for text-generation (temperatures: 0.2, 0.5, 1.0, 1.2 and 1.5) and train your model for 5 epochs."
   ]
  },
  {
   "cell_type": "code",
   "execution_count": null,
   "metadata": {
    "colab": {
     "base_uri": "https://localhost:8080/",
     "height": 817
    },
    "colab_type": "code",
    "id": "SlAsqSc41eF9",
    "outputId": "8545de8d-74da-4de1-ed72-1260fec271fd"
   },
   "outputs": [],
   "source": []
  },
  {
   "cell_type": "markdown",
   "metadata": {
    "colab": {
     "base_uri": "https://localhost:8080/",
     "height": 977
    },
    "colab_type": "code",
    "id": "m2JFiRcX1eGC",
    "outputId": "201e4b3d-5d16-47e1-aafb-82cf3f627de1"
   },
   "source": [
    "How many trainable parameters does the neural network from exercise 2 have? Explain your solution!"
   ]
  },
  {
   "cell_type": "markdown",
   "metadata": {
    "colab": {
     "base_uri": "https://localhost:8080/",
     "height": 1000
    },
    "colab_type": "code",
    "id": "cMwwEzMK1eGH",
    "outputId": "d2a52d6f-785b-479b-8455-aed7f406bcc3"
   },
   "source": [
    "Answer:"
   ]
  },
  {
   "cell_type": "markdown",
   "metadata": {
    "colab_type": "text",
    "id": "PMRemOWU1eGV"
   },
   "source": [
    "Replace the LSTM unit from exercise 2 with a GRU with an equally big number of the hidden state neurons and run your experiment again. How many trainable parameters does the new network have? Explain your solution."
   ]
  },
  {
   "cell_type": "markdown",
   "metadata": {},
   "source": [
    "Answer:"
   ]
  }
 ],
 "metadata": {
  "accelerator": "GPU",
  "colab": {
   "name": "Librosa_test.ipynb",
   "provenance": []
  },
  "kernelspec": {
   "display_name": "Python 3",
   "language": "python",
   "name": "python3"
  },
  "language_info": {
   "codemirror_mode": {
    "name": "ipython",
    "version": 3
   },
   "file_extension": ".py",
   "mimetype": "text/x-python",
   "name": "python",
   "nbconvert_exporter": "python",
   "pygments_lexer": "ipython3",
   "version": "3.6.9"
  }
 },
 "nbformat": 4,
 "nbformat_minor": 1
}
