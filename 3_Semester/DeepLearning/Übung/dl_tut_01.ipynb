{
 "cells": [
  {
   "cell_type": "markdown",
   "metadata": {
    "colab_type": "text",
    "id": "0mZhmra3mcz6"
   },
   "source": [
    "## Exercise - DL Tutorial 1 \n",
    "\n",
    "Please complete the following notebook and upload the completed version to digicampus"
   ]
  },
  {
   "cell_type": "markdown",
   "metadata": {
    "colab_type": "text",
    "id": "HrSPQusomcz-"
   },
   "source": [
    "## student name: Marc Blickle\n",
    "\n",
    "For the following 10*10 array (A): "
   ]
  },
  {
   "cell_type": "code",
   "execution_count": 1,
   "metadata": {
    "colab": {},
    "colab_type": "code",
    "id": "Iy0_YiPzmc0D"
   },
   "outputs": [],
   "source": [
    "import numpy as np \n",
    "A = np.array([[0.69145505, 0.86931882, 0.88576413, 0.82707554, 0.94754421, 0.54767962,  0.51818679, 0.27907936, 0.95212406, 0.22750068], \\\n",
    "              [0.345638,   0.16172159, 0.87807572, 0.38444467, 0.84255332, 0.69666159,  0.43339905, 0.91927538, 0.58666126, 0.83215206], \\\n",
    "              [0.91359442, 0.06356911, 0.37205853, 0.18242315, 0.37961342, 0.93335263,  0.34068447, 0.48598708, 0.24260729, 0.70004846], \\\n",
    "              [0.75245372, 0.64147803, 0.84013461, 0.6152693,  0.02235612, 0.4492574,  0.55206705, 0.69409179, 0.1666939,  0.67387225], \\\n",
    "              [0.30664677, 0.87559232, 0.07164895, 0.85516997, 0.77945438, 0.51948711,  0.18721151, 0.7690967 , 0.53605078, 0.55431431], \\\n",
    "              [0.1750064,  0.95009262, 0.57121048, 0.87359026, 0.05715099, 0.43202169,  0.3648696,  0.24367817, 0.06807447, 0.46999578], \\\n",
    "              [0.41121198, 0.10125657, 0.0869751,  0.91816382, 0.01738795, 0.19420588,  0.00127754, 0.19281699, 0.56083174, 0.55424236], \\\n",
    "              [0.34467108, 0.18352578, 0.69203741, 0.48087863, 0.39596428, 0.28107969,  0.09727506, 0.11236618, 0.82687268, 0.22700161], \\\n",
    "              [0.92788092, 0.87184167, 0.72492497, 0.94086364, 0.86998108, 0.35178978,  0.45463869, 0.0242793,  0.75607483, 0.21317889], \\\n",
    "              [0.15680697, 0.13109825, 0.93463861, 0.78143659, 0.30680001, 0.67935342,  0.3583568,  0.7522564,  0.19810852, 0.22378965]])\n",
    "w = np.array([[0.49039597, 0.73424538, 0.08249155, 0.0488797,  0.62525918, 0.29331343, 0.76435348, 0.68825002, 0.53465669, 0.3399619]])\n",
    "B=np.array(A)"
   ]
  },
  {
   "cell_type": "markdown",
   "metadata": {
    "colab_type": "text",
    "id": "yWdlDfk6mc0K"
   },
   "source": [
    "Answer the following 10 questions using Numpy.\n",
    "Note:  Try  to  avoid  the  use  of  explicit  for-  and  while-loops.  Use  methods  from  the\n",
    "NumPy library instead, which are intuitive and more runtime-efficient."
   ]
  },
  {
   "cell_type": "markdown",
   "metadata": {
    "colab_type": "text",
    "id": "d3h-fHwEmc0M"
   },
   "source": [
    "1.   what is the row index in A that has the largest last element? \n"
   ]
  },
  {
   "cell_type": "code",
   "execution_count": 2,
   "metadata": {
    "colab": {},
    "colab_type": "code",
    "id": "nStp1HcKmc0T"
   },
   "outputs": [
    {
     "name": "stdout",
     "output_type": "stream",
     "text": [
      "1\n"
     ]
    }
   ],
   "source": [
    "print(np.argmax(A[:, 9]))"
   ]
  },
  {
   "cell_type": "markdown",
   "metadata": {
    "colab_type": "text",
    "id": "cSBUWqkemc0Y"
   },
   "source": [
    "2.   what is the row index in A that has the second largest last element?"
   ]
  },
  {
   "cell_type": "code",
   "execution_count": 3,
   "metadata": {
    "colab": {},
    "colab_type": "code",
    "id": "CcQvj8Xmmc0Z"
   },
   "outputs": [
    {
     "name": "stdout",
     "output_type": "stream",
     "text": [
      "2\n"
     ]
    }
   ],
   "source": [
    "print(np.argpartition(A[:, 9].flatten(), -2)[-2])"
   ]
  },
  {
   "cell_type": "markdown",
   "metadata": {
    "colab_type": "text",
    "id": "Cu4-nHGYmc0d"
   },
   "source": [
    "3.   what is the row index in A that has a row sum greater than 5?\n"
   ]
  },
  {
   "cell_type": "code",
   "execution_count": 4,
   "metadata": {
    "colab": {},
    "colab_type": "code",
    "id": "Swdz9olbmc0e"
   },
   "outputs": [
    {
     "name": "stdout",
     "output_type": "stream",
     "text": [
      "[0 1 3 4 8]\n"
     ]
    }
   ],
   "source": [
    "print(np.flatnonzero(np.sum(A,axis=1) > 5))"
   ]
  },
  {
   "cell_type": "markdown",
   "metadata": {
    "colab_type": "text",
    "id": "8-6Wz94Amc0j"
   },
   "source": [
    "4.   What is the sum of all elements of the form A[i, i+1] in A?"
   ]
  },
  {
   "cell_type": "code",
   "execution_count": 19,
   "metadata": {
    "colab": {},
    "colab_type": "code",
    "id": "4KFYwvuFmc0k"
   },
   "outputs": [
    {
     "name": "stdout",
     "output_type": "stream",
     "text": [
      "4.06939908\n"
     ]
    }
   ],
   "source": [
    "print(np.sum(np.diagonal(A, 1)))"
   ]
  },
  {
   "cell_type": "markdown",
   "metadata": {
    "colab_type": "text",
    "id": "oxdJMootmc0o"
   },
   "source": [
    "5.   multiply elementwise every row in matrix A by the vector w, and then sum the results for every row\n"
   ]
  },
  {
   "cell_type": "code",
   "execution_count": null,
   "metadata": {
    "colab": {},
    "colab_type": "code",
    "id": "jbV0BbyFmc0q"
   },
   "outputs": [],
   "source": [
    "print(np.sum(np.multiply(A,w), axis = 0))"
   ]
  },
  {
   "cell_type": "markdown",
   "metadata": {
    "colab_type": "text",
    "id": "qPgxqLskmc0u"
   },
   "source": [
    "6.   do the above task in 5. using matrix multiplication\n"
   ]
  },
  {
   "cell_type": "code",
   "execution_count": 17,
   "metadata": {
    "colab": {},
    "colab_type": "code",
    "id": "NRozmS-Dmc0w"
   },
   "outputs": [
    {
     "name": "stdout",
     "output_type": "stream",
     "text": [
      "[2.4644189  3.56071912 0.49968997 0.33528129 2.8879507  1.49146618\n",
      " 2.52845575 3.07849234 2.61666306 1.5896945 ]\n"
     ]
    }
   ],
   "source": [
    "print(np.sum(np.multiply(A,w), axis = 0))"
   ]
  },
  {
   "cell_type": "markdown",
   "metadata": {
    "colab_type": "text",
    "id": "qPN74jbQmc00"
   },
   "source": [
    "7.   set all elements of A that are larger than 0.5 to 0. What is the sum of the resulting matrix?"
   ]
  },
  {
   "cell_type": "code",
   "execution_count": null,
   "metadata": {
    "colab": {},
    "colab_type": "code",
    "id": "Yw6hzbxFmc00"
   },
   "outputs": [],
   "source": [
    "A[A > 0.5] = 0\n",
    "print(np.sum(A))"
   ]
  },
  {
   "cell_type": "markdown",
   "metadata": {
    "colab_type": "text",
    "id": "OBHRBvSnmc06"
   },
   "source": [
    "8.   subtract 1 from all elements of A that are smaller than 0.5. What is the sum of the resulting matrix?"
   ]
  },
  {
   "cell_type": "code",
   "execution_count": null,
   "metadata": {
    "colab": {},
    "colab_type": "code",
    "id": "JnlCrNwAmc06"
   },
   "outputs": [],
   "source": [
    "#for the original A\n",
    "B[B < 0.5] -= 1\n",
    "print(np.sum(B))\n",
    "\n",
    "#for the modified A from 7.\n",
    "A[A < 0.5] -= 1\n",
    "print(np.sum(A))\n",
    "\n"
   ]
  },
  {
   "cell_type": "markdown",
   "metadata": {
    "colab_type": "text",
    "id": "wD7QkshRmc09"
   },
   "source": [
    "9.   what is the sum of all element in A, that are smaller than their column's mean?"
   ]
  },
  {
   "cell_type": "code",
   "execution_count": 13,
   "metadata": {
    "colab": {},
    "colab_type": "code",
    "id": "5aMh9qwTmc0_"
   },
   "outputs": [
    {
     "name": "stdout",
     "output_type": "stream",
     "text": [
      "4.9846428210000004\n"
     ]
    }
   ],
   "source": [
    "print(np.sum(A.mean(axis=0)))\n",
    "##sry didnt know how to compare row specific"
   ]
  },
  {
   "cell_type": "markdown",
   "metadata": {
    "colab_type": "text",
    "id": "ZFFORhkSmc1C"
   },
   "source": [
    "10.  create a diagonal matrix B of size 10*10, with B_i,i = i"
   ]
  },
  {
   "cell_type": "code",
   "execution_count": 27,
   "metadata": {
    "colab": {},
    "colab_type": "code",
    "id": "k6CF4bGWmc1C"
   },
   "outputs": [
    {
     "name": "stdout",
     "output_type": "stream",
     "text": [
      "[[0. 0. 0. 0. 0. 0. 0. 0. 0. 0.]\n",
      " [0. 1. 0. 0. 0. 0. 0. 0. 0. 0.]\n",
      " [0. 0. 2. 0. 0. 0. 0. 0. 0. 0.]\n",
      " [0. 0. 0. 3. 0. 0. 0. 0. 0. 0.]\n",
      " [0. 0. 0. 0. 4. 0. 0. 0. 0. 0.]\n",
      " [0. 0. 0. 0. 0. 5. 0. 0. 0. 0.]\n",
      " [0. 0. 0. 0. 0. 0. 6. 0. 0. 0.]\n",
      " [0. 0. 0. 0. 0. 0. 0. 7. 0. 0.]\n",
      " [0. 0. 0. 0. 0. 0. 0. 0. 8. 0.]\n",
      " [0. 0. 0. 0. 0. 0. 0. 0. 0. 0.]]\n"
     ]
    }
   ],
   "source": [
    "B = np.zeros((10,10))\n",
    "i = np.arange(10)\n",
    "#rng = np.arange(4)\n",
    "B[i,i] = i\n",
    "print(B)"
   ]
  },
  {
   "cell_type": "code",
   "execution_count": null,
   "metadata": {},
   "outputs": [],
   "source": []
  }
 ],
 "metadata": {
  "colab": {
   "name": "DL-T1_excercise.ipynb",
   "provenance": []
  },
  "kernelspec": {
   "display_name": "Python 3",
   "language": "python",
   "name": "python3"
  },
  "language_info": {
   "codemirror_mode": {
    "name": "ipython",
    "version": 3
   },
   "file_extension": ".py",
   "mimetype": "text/x-python",
   "name": "python",
   "nbconvert_exporter": "python",
   "pygments_lexer": "ipython3",
   "version": "3.7.3"
  }
 },
 "nbformat": 4,
 "nbformat_minor": 1
}
