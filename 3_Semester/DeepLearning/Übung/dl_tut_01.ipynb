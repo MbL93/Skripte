{
  "nbformat": 4,
  "nbformat_minor": 0,
  "metadata": {
    "kernelspec": {
      "display_name": "Python 3",
      "language": "python",
      "name": "python3"
    },
    "language_info": {
      "codemirror_mode": {
        "name": "ipython",
        "version": 3
      },
      "file_extension": ".py",
      "mimetype": "text/x-python",
      "name": "python",
      "nbconvert_exporter": "python",
      "pygments_lexer": "ipython3",
      "version": "3.6.8"
    },
    "colab": {
      "name": "DL-T1_excercise.ipynb",
      "provenance": []
    }
  },
  "cells": [
    {
      "cell_type": "markdown",
      "metadata": {
        "id": "0mZhmra3mcz6",
        "colab_type": "text"
      },
      "source": [
        "## Exercise - DL Tutorial 1 \n",
        "\n",
        "Please complete the following notebook and upload the completed version to digicampus"
      ]
    },
    {
      "cell_type": "markdown",
      "metadata": {
        "id": "HrSPQusomcz-",
        "colab_type": "text"
      },
      "source": [
        "## student name: "
      ]
    },
    {
      "cell_type": "markdown",
      "metadata": {
        "id": "iqJQcOcmmc0B",
        "colab_type": "text"
      },
      "source": [
        "For the following 10*10 array (A): "
      ]
    },
    {
      "cell_type": "code",
      "metadata": {
        "id": "Iy0_YiPzmc0D",
        "colab_type": "code",
        "colab": {}
      },
      "source": [
        "import numpy as np \n",
        "A = np.array([[0.69145505, 0.86931882, 0.88576413, 0.82707554, 0.94754421, 0.54767962,  0.51818679, 0.27907936, 0.95212406, 0.22750068], \\\n",
        "              [0.345638,   0.16172159, 0.87807572, 0.38444467, 0.84255332, 0.69666159,  0.43339905, 0.91927538, 0.58666126, 0.83215206], \\\n",
        "              [0.91359442, 0.06356911, 0.37205853, 0.18242315, 0.37961342, 0.93335263,  0.34068447, 0.48598708, 0.24260729, 0.70004846], \\\n",
        "              [0.75245372, 0.64147803, 0.84013461, 0.6152693,  0.02235612, 0.4492574,  0.55206705, 0.69409179, 0.1666939,  0.67387225], \\\n",
        "              [0.30664677, 0.87559232, 0.07164895, 0.85516997, 0.77945438, 0.51948711,  0.18721151, 0.7690967 , 0.53605078, 0.55431431], \\\n",
        "              [0.1750064,  0.95009262, 0.57121048, 0.87359026, 0.05715099, 0.43202169,  0.3648696,  0.24367817, 0.06807447, 0.46999578], \\\n",
        "              [0.41121198, 0.10125657, 0.0869751,  0.91816382, 0.01738795, 0.19420588,  0.00127754, 0.19281699, 0.56083174, 0.55424236], \\\n",
        "              [0.34467108, 0.18352578, 0.69203741, 0.48087863, 0.39596428, 0.28107969,  0.09727506, 0.11236618, 0.82687268, 0.22700161], \\\n",
        "              [0.92788092, 0.87184167, 0.72492497, 0.94086364, 0.86998108, 0.35178978,  0.45463869, 0.0242793,  0.75607483, 0.21317889], \\\n",
        "              [0.15680697, 0.13109825, 0.93463861, 0.78143659, 0.30680001, 0.67935342,  0.3583568,  0.7522564,  0.19810852, 0.22378965]])\n",
        "w = np.array([[0.49039597, 0.73424538, 0.08249155, 0.0488797,  0.62525918, 0.29331343, 0.76435348, 0.68825002, 0.53465669, 0.3399619]])"
      ],
      "execution_count": 0,
      "outputs": []
    },
    {
      "cell_type": "markdown",
      "metadata": {
        "id": "yWdlDfk6mc0K",
        "colab_type": "text"
      },
      "source": [
        "Answer the following 10 questions using Numpy.\n",
        "Note:  Try  to  avoid  the  use  of  explicit  for-  and  while-loops.  Use  methods  from  the\n",
        "NumPy library instead, which are intuitive and more runtime-efficient."
      ]
    },
    {
      "cell_type": "markdown",
      "metadata": {
        "id": "d3h-fHwEmc0M",
        "colab_type": "text"
      },
      "source": [
        "1.   what is the row index in A that has the largest last element? \n"
      ]
    },
    {
      "cell_type": "code",
      "metadata": {
        "id": "nStp1HcKmc0T",
        "colab_type": "code",
        "colab": {}
      },
      "source": [
        ""
      ],
      "execution_count": 0,
      "outputs": []
    },
    {
      "cell_type": "markdown",
      "metadata": {
        "id": "cSBUWqkemc0Y",
        "colab_type": "text"
      },
      "source": [
        "2.   what is the row index in A that has the second largest last element?"
      ]
    },
    {
      "cell_type": "code",
      "metadata": {
        "id": "CcQvj8Xmmc0Z",
        "colab_type": "code",
        "colab": {}
      },
      "source": [
        ""
      ],
      "execution_count": 0,
      "outputs": []
    },
    {
      "cell_type": "markdown",
      "metadata": {
        "id": "Cu4-nHGYmc0d",
        "colab_type": "text"
      },
      "source": [
        "3.   what is the row index in A that has a row sum greater than 5?\n"
      ]
    },
    {
      "cell_type": "code",
      "metadata": {
        "id": "Swdz9olbmc0e",
        "colab_type": "code",
        "colab": {}
      },
      "source": [
        ""
      ],
      "execution_count": 0,
      "outputs": []
    },
    {
      "cell_type": "markdown",
      "metadata": {
        "id": "8-6Wz94Amc0j",
        "colab_type": "text"
      },
      "source": [
        "4.   What is the sum of all elements of the form A[i, i+1] in A?"
      ]
    },
    {
      "cell_type": "code",
      "metadata": {
        "id": "4KFYwvuFmc0k",
        "colab_type": "code",
        "colab": {}
      },
      "source": [
        ""
      ],
      "execution_count": 0,
      "outputs": []
    },
    {
      "cell_type": "markdown",
      "metadata": {
        "id": "oxdJMootmc0o",
        "colab_type": "text"
      },
      "source": [
        "5.   multiply elementwise every row in matrix A by the vector w, and then sum the results for every row\n"
      ]
    },
    {
      "cell_type": "code",
      "metadata": {
        "id": "jbV0BbyFmc0q",
        "colab_type": "code",
        "colab": {}
      },
      "source": [
        ""
      ],
      "execution_count": 0,
      "outputs": []
    },
    {
      "cell_type": "markdown",
      "metadata": {
        "id": "qPgxqLskmc0u",
        "colab_type": "text"
      },
      "source": [
        "6.   do the above task in 5. using matrix multiplication\n"
      ]
    },
    {
      "cell_type": "code",
      "metadata": {
        "id": "NRozmS-Dmc0w",
        "colab_type": "code",
        "colab": {}
      },
      "source": [
        ""
      ],
      "execution_count": 0,
      "outputs": []
    },
    {
      "cell_type": "markdown",
      "metadata": {
        "id": "qPN74jbQmc00",
        "colab_type": "text"
      },
      "source": [
        "7.   set all elements of A that are larger than 0.5 to 0. What is the sum of the resulting matrix?"
      ]
    },
    {
      "cell_type": "code",
      "metadata": {
        "id": "Yw6hzbxFmc00",
        "colab_type": "code",
        "colab": {}
      },
      "source": [
        ""
      ],
      "execution_count": 0,
      "outputs": []
    },
    {
      "cell_type": "markdown",
      "metadata": {
        "id": "OBHRBvSnmc06",
        "colab_type": "text"
      },
      "source": [
        "8.   subtract 1 from all elements of A that are smaller than 0.5. What is the sum of the resulting matrix?"
      ]
    },
    {
      "cell_type": "code",
      "metadata": {
        "id": "JnlCrNwAmc06",
        "colab_type": "code",
        "colab": {}
      },
      "source": [
        ""
      ],
      "execution_count": 0,
      "outputs": []
    },
    {
      "cell_type": "markdown",
      "metadata": {
        "id": "wD7QkshRmc09",
        "colab_type": "text"
      },
      "source": [
        "9.   what is the sum of all element in A, that are smaller than their column's mean?"
      ]
    },
    {
      "cell_type": "code",
      "metadata": {
        "id": "5aMh9qwTmc0_",
        "colab_type": "code",
        "colab": {}
      },
      "source": [
        ""
      ],
      "execution_count": 0,
      "outputs": []
    },
    {
      "cell_type": "markdown",
      "metadata": {
        "id": "ZFFORhkSmc1C",
        "colab_type": "text"
      },
      "source": [
        "10.  create a diagonal matrix B of size 10*10, with B_i,i = i"
      ]
    },
    {
      "cell_type": "code",
      "metadata": {
        "id": "k6CF4bGWmc1C",
        "colab_type": "code",
        "colab": {}
      },
      "source": [
        ""
      ],
      "execution_count": 0,
      "outputs": []
    }
  ]
}