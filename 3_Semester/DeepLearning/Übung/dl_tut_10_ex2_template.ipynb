{
 "cells": [
  {
   "cell_type": "code",
   "execution_count": null,
   "metadata": {},
   "outputs": [],
   "source": [
    "from keras.models import Sequential\n",
    "from keras.layers import Dense, Activation\n",
    "from keras.layers import Dropout, LeakyReLU\n",
    "from keras.optimizers import Adam, RMSprop\n",
    "\n",
    "import numpy as np\n",
    "import matplotlib.pyplot as plt\n",
    "from IPython.display import clear_output, Image\n",
    "\n",
    "import tensorflow as tf\n",
    "import math"
   ]
  },
  {
   "cell_type": "code",
   "execution_count": null,
   "metadata": {},
   "outputs": [],
   "source": [
    "# Objective function; Achieve at least .7 with the test vector\n",
    "def ring_objective(preds):\n",
    "    dists = np.sqrt(preds[:,0]**2 + preds[:,1]**2).reshape(-1)\n",
    "    return np.mean(np.where(np.abs(dists - 1) <= 0.1, 1, 0))"
   ]
  },
  {
   "cell_type": "code",
   "execution_count": null,
   "metadata": {},
   "outputs": [],
   "source": [
    "SAMPLE_DIM = 2\n",
    "ITERATIONS = 16001\n",
    "CIRCLE_RADIUS = 1"
   ]
  },
  {
   "cell_type": "code",
   "execution_count": null,
   "metadata": {},
   "outputs": [],
   "source": [
    "def discriminator():\n",
    "    pass"
   ]
  },
  {
   "cell_type": "code",
   "execution_count": null,
   "metadata": {},
   "outputs": [],
   "source": [
    "def generator():\n",
    "    net = Sequential()\n",
    "    net.add(Dense(32, input_dim=SAMPLE_DIM))\n",
    "    net.add(LeakyReLU())\n",
    "    net.add(Dense(16))\n",
    "    net.add(LeakyReLU())\n",
    "    net.add(Dense(4))\n",
    "    net.add(LeakyReLU())\n",
    "    net.add(Dense(2))\n",
    "    \n",
    "    return net"
   ]
  },
  {
   "cell_type": "code",
   "execution_count": null,
   "metadata": {},
   "outputs": [],
   "source": []
  },
  {
   "cell_type": "code",
   "execution_count": null,
   "metadata": {},
   "outputs": [],
   "source": [
    "angles = np.random.uniform(0, 2*math.pi, size=[1024, 1])\n",
    "r_rads = np.random.uniform(0.9, 1.1, size=[1024, 1])\n",
    "x_train = np.hstack((np.cos(angles)*CIRCLE_RADIUS*r_rads, np.sin(angles)*CIRCLE_RADIUS*r_rads))\n",
    "\n",
    "\n",
    "plt.scatter(x_train[:,0], x_train[:,1])\n",
    "\n",
    "plt.show()"
   ]
  },
  {
   "cell_type": "code",
   "execution_count": null,
   "metadata": {},
   "outputs": [],
   "source": [
    "vis_noise = np.random.normal(0, 1.0, size=[1000, SAMPLE_DIM])\n",
    "\n",
    "acc_adv = []\n",
    "acc_dis = []\n",
    "plot_iteration = []\n",
    "\n",
    "\n",
    "for i in range(ITERATIONS):\n",
    "\n",
    "    # GAN training\n",
    "    # Your code here\n",
    "\n",
    "    # Visualization: Plot the accuracy of the discriminator and the adversarial setup + the predicted point cloud from the test vector\n",
    "    if i % 20 == 0:\n",
    "        plot_iteration.append(i)\n",
    "        # don't forget to include the accuracy metric when compiling the models\n",
    "        acc_adv.append(adversarial_stats[1])\n",
    "        acc_dis.append(discriminator_stats[1])\n",
    "\n",
    "        clear_output(wait=True)\n",
    "\n",
    "        fig, axes = plt.subplots(1,2)\n",
    "        fig.set_size_inches(16, 10)\n",
    "\n",
    "        axes[0].plot(plot_iteration, acc_adv, label=\"acc adversarial\")\n",
    "        axes[0].plot(plot_iteration, acc_dis, label=\"acc discriminator\")\n",
    "        axes[0].legend()\n",
    "\n",
    "        # Visualize the performance of the generator by producing samples from the test vector\n",
    "        #generated = net_generator.predict(vis_noise)\n",
    "\n",
    "        axes[1].scatter(x_train[:,0], x_train[:,1], label=\"real\")\n",
    "        axes[1].scatter(generated[:,0], generated[:,1], label=\"fake\")\n",
    "        axes[1].legend()\n",
    "        plt.show()\n",
    "\n",
    "        print(\"Objective score:\", ring_objective(generated))\n"
   ]
  },
  {
   "cell_type": "code",
   "execution_count": null,
   "metadata": {},
   "outputs": [],
   "source": []
  },
  {
   "cell_type": "raw",
   "metadata": {},
   "source": []
  },
  {
   "cell_type": "code",
   "execution_count": null,
   "metadata": {},
   "outputs": [],
   "source": []
  },
  {
   "cell_type": "code",
   "execution_count": null,
   "metadata": {},
   "outputs": [],
   "source": []
  },
  {
   "cell_type": "code",
   "execution_count": null,
   "metadata": {},
   "outputs": [],
   "source": []
  }
 ],
 "metadata": {
  "kernelspec": {
   "display_name": "Python 3",
   "language": "python",
   "name": "python3"
  },
  "language_info": {
   "codemirror_mode": {
    "name": "ipython",
    "version": 3
   },
   "file_extension": ".py",
   "mimetype": "text/x-python",
   "name": "python",
   "nbconvert_exporter": "python",
   "pygments_lexer": "ipython3",
   "version": "3.6.9"
  }
 },
 "nbformat": 4,
 "nbformat_minor": 2
}
