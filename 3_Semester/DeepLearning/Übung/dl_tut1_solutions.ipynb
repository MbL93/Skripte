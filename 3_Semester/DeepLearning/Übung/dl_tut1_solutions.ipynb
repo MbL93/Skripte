{
 "cells": [
  {
   "cell_type": "markdown",
   "metadata": {},
   "source": [
    "## Exercise - DL Tutorial 1 \n",
    "\n",
    "Please complete the following notebook and upload the completed version to digicampus"
   ]
  },
  {
   "cell_type": "markdown",
   "metadata": {},
   "source": [
    "## student name: "
   ]
  },
  {
   "cell_type": "markdown",
   "metadata": {},
   "source": [
    "For the following 10*10 array (A): "
   ]
  },
  {
   "cell_type": "code",
   "execution_count": 1,
   "metadata": {},
   "outputs": [],
   "source": [
    "import numpy as np \n",
    "A = np.array([[0.69145505, 0.86931882, 0.88576413, 0.82707554, 0.94754421, 0.54767962,  0.51818679, 0.27907936, 0.95212406, 0.22750068], \\\n",
    "              [0.345638,   0.16172159, 0.87807572, 0.38444467, 0.84255332, 0.69666159,  0.43339905, 0.91927538, 0.58666126, 0.83215206], \\\n",
    "              [0.91359442, 0.06356911, 0.37205853, 0.18242315, 0.37961342, 0.93335263,  0.34068447, 0.48598708, 0.24260729, 0.70004846], \\\n",
    "              [0.75245372, 0.64147803, 0.84013461, 0.6152693,  0.02235612, 0.4492574,  0.55206705, 0.69409179, 0.1666939,  0.67387225], \\\n",
    "              [0.30664677, 0.87559232, 0.07164895, 0.85516997, 0.77945438, 0.51948711,  0.18721151, 0.7690967 , 0.53605078, 0.55431431], \\\n",
    "              [0.1750064,  0.95009262, 0.57121048, 0.87359026, 0.05715099, 0.43202169,  0.3648696,  0.24367817, 0.06807447, 0.46999578], \\\n",
    "              [0.41121198, 0.10125657, 0.0869751,  0.91816382, 0.01738795, 0.19420588,  0.00127754, 0.19281699, 0.56083174, 0.55424236], \\\n",
    "              [0.34467108, 0.18352578, 0.69203741, 0.48087863, 0.39596428, 0.28107969,  0.09727506, 0.11236618, 0.82687268, 0.22700161], \\\n",
    "              [0.92788092, 0.87184167, 0.72492497, 0.94086364, 0.86998108, 0.35178978,  0.45463869, 0.0242793,  0.75607483, 0.21317889], \\\n",
    "              [0.15680697, 0.13109825, 0.93463861, 0.78143659, 0.30680001, 0.67935342,  0.3583568,  0.7522564,  0.19810852, 0.22378965]])\n",
    "w = np.array([[0.49039597, 0.73424538, 0.08249155, 0.0488797,  0.62525918, 0.29331343, 0.76435348, 0.68825002, 0.53465669, 0.3399619]])"
   ]
  },
  {
   "cell_type": "markdown",
   "metadata": {},
   "source": [
    "Answer the following 10 questions using Numpy"
   ]
  },
  {
   "cell_type": "markdown",
   "metadata": {},
   "source": [
    "1.   what is the row index in A that has the largest last element? \n"
   ]
  },
  {
   "cell_type": "code",
   "execution_count": 2,
   "metadata": {},
   "outputs": [
    {
     "name": "stdout",
     "output_type": "stream",
     "text": [
      "1\n"
     ]
    }
   ],
   "source": [
    "print(np.argmax(A[:,-1]))\n"
   ]
  },
  {
   "cell_type": "markdown",
   "metadata": {},
   "source": [
    "2.   what is the row index in A that has the second largest last element?"
   ]
  },
  {
   "cell_type": "code",
   "execution_count": 3,
   "metadata": {},
   "outputs": [
    {
     "name": "stdout",
     "output_type": "stream",
     "text": [
      "2\n"
     ]
    }
   ],
   "source": [
    "print(np.argsort(A[:,-1])[-2])"
   ]
  },
  {
   "cell_type": "markdown",
   "metadata": {},
   "source": [
    "3.   what are the row indices in A that has a row sum greater than 5?\n"
   ]
  },
  {
   "cell_type": "code",
   "execution_count": 4,
   "metadata": {},
   "outputs": [
    {
     "name": "stdout",
     "output_type": "stream",
     "text": [
      "(array([0, 1, 3, 4, 8]),)\n"
     ]
    }
   ],
   "source": [
    "print(np.where(np.sum(A, axis=1) > 5))"
   ]
  },
  {
   "cell_type": "markdown",
   "metadata": {},
   "source": [
    "4.   What is the sum of all elements of the form A[i, i+1] in A?"
   ]
  },
  {
   "cell_type": "code",
   "execution_count": 5,
   "metadata": {},
   "outputs": [
    {
     "name": "stdout",
     "output_type": "stream",
     "text": [
      "4.06939908\n",
      "4.06939908\n"
     ]
    }
   ],
   "source": [
    "print(np.trace(A, offset=1))\n",
    "\n",
    "a_mask_with_zeros = np.zeros(A.shape)\n",
    "for i in range(10-1):\n",
    "    a_mask_with_zeros[i, i+1] = A[i, i+1]\n",
    "# print a_mask_with_zeros\n",
    "print(a_mask_with_zeros.sum())"
   ]
  },
  {
   "cell_type": "markdown",
   "metadata": {},
   "source": [
    "5.   multiply elementwise every row in matrix A by the vector w, and then sum the results for every row\n"
   ]
  },
  {
   "cell_type": "code",
   "execution_count": 6,
   "metadata": {},
   "outputs": [
    {
     "name": "stdout",
     "output_type": "stream",
     "text": [
      "[3.01853317 2.67114631 2.00801385 2.30303029 2.62819786 1.67847435\n",
      " 1.01784983 1.38534892 2.68904048 1.65319672]\n"
     ]
    }
   ],
   "source": [
    "w = [0.49039597, 0.73424538, 0.08249155, 0.0488797,  0.62525918, 0.29331343, 0.76435348, 0.68825002, 0.53465669, 0.3399619]\n",
    "\n",
    "aw = np.multiply(A, w)\n",
    "print(np.sum(aw, axis=1))\n",
    "\n"
   ]
  },
  {
   "cell_type": "markdown",
   "metadata": {},
   "source": [
    "6.   do the above task in 5. using matrix multiplication\n"
   ]
  },
  {
   "cell_type": "code",
   "execution_count": 7,
   "metadata": {},
   "outputs": [
    {
     "name": "stdout",
     "output_type": "stream",
     "text": [
      "[3.01853317 2.67114631 2.00801385 2.30303029 2.62819786 1.67847435\n",
      " 1.01784983 1.38534892 2.68904048 1.65319672]\n"
     ]
    }
   ],
   "source": [
    "print(np.dot(A, w))"
   ]
  },
  {
   "cell_type": "markdown",
   "metadata": {},
   "source": [
    "7.   set all elements of A that are larger than 0.5 to 0. What is the sum of the resulting matrix?"
   ]
  },
  {
   "cell_type": "code",
   "execution_count": 8,
   "metadata": {},
   "outputs": [
    {
     "name": "stdout",
     "output_type": "stream",
     "text": [
      "12.46007933\n",
      "12.460079330000001\n",
      "12.460079330000001\n"
     ]
    }
   ],
   "source": [
    "a_cut = np.array(A)\n",
    "a_cut[a_cut > 0.5] = 0\n",
    "print(a_cut.sum())\n",
    "\n",
    "print(np.sum([i for i in A.reshape(-1,) if i < 0.5]))\n",
    "\n",
    "print(np.sum(A[np.where (A < 0.5)]))"
   ]
  },
  {
   "cell_type": "markdown",
   "metadata": {},
   "source": [
    "8.   subtract 1 from all elements of A that are smaller than 0.5. What is the sum of the resulting matrix?"
   ]
  },
  {
   "cell_type": "code",
   "execution_count": 9,
   "metadata": {
    "scrolled": true
   },
   "outputs": [
    {
     "name": "stdout",
     "output_type": "stream",
     "text": [
      "-1.15357179\n",
      "-1.15357179\n",
      "-1.15357179\n"
     ]
    }
   ],
   "source": [
    "a_sub = np.array(A)\n",
    "a_sub[a_sub < 0.5] -= 1\n",
    "print(a_sub.sum())\n",
    "\n",
    "print(np.sum([i-1 if i < 0.5 else i for i in A.reshape(-1)]))\n",
    "\n",
    "print(np.sum(np.where(A < 0.5, A-1, A)))"
   ]
  },
  {
   "cell_type": "markdown",
   "metadata": {},
   "source": [
    "9.   what is the sum of all element in A, that are smaller than their column's mean?"
   ]
  },
  {
   "cell_type": "code",
   "execution_count": 10,
   "metadata": {},
   "outputs": [
    {
     "name": "stdout",
     "output_type": "stream",
     "text": [
      "10.738627639999999\n",
      "10.738627639999999\n"
     ]
    }
   ],
   "source": [
    "a_sma = np.array(A)\n",
    "# print a_sma\n",
    "a_sma_mean_col = np.mean(a_sma, axis=0)\n",
    "# print a_sma_mean_col\n",
    "a_sma[A - a_sma_mean_col > 0] = 0\n",
    "print(a_sma.sum())\n",
    "\n",
    "print(np.sum(np.where(A < A.mean(0), A, 0)))\n"
   ]
  },
  {
   "cell_type": "markdown",
   "metadata": {},
   "source": [
    "10.  create a diagonal matrix B of size 10*10, with B_i,i = i"
   ]
  },
  {
   "cell_type": "code",
   "execution_count": 11,
   "metadata": {},
   "outputs": [
    {
     "name": "stdout",
     "output_type": "stream",
     "text": [
      "[[0 0 0 0 0 0 0 0 0 0]\n",
      " [0 1 0 0 0 0 0 0 0 0]\n",
      " [0 0 2 0 0 0 0 0 0 0]\n",
      " [0 0 0 3 0 0 0 0 0 0]\n",
      " [0 0 0 0 4 0 0 0 0 0]\n",
      " [0 0 0 0 0 5 0 0 0 0]\n",
      " [0 0 0 0 0 0 6 0 0 0]\n",
      " [0 0 0 0 0 0 0 7 0 0]\n",
      " [0 0 0 0 0 0 0 0 8 0]\n",
      " [0 0 0 0 0 0 0 0 0 9]]\n",
      "[[0 0 0 0 0 0 0 0 0 0]\n",
      " [0 1 0 0 0 0 0 0 0 0]\n",
      " [0 0 2 0 0 0 0 0 0 0]\n",
      " [0 0 0 3 0 0 0 0 0 0]\n",
      " [0 0 0 0 4 0 0 0 0 0]\n",
      " [0 0 0 0 0 5 0 0 0 0]\n",
      " [0 0 0 0 0 0 6 0 0 0]\n",
      " [0 0 0 0 0 0 0 7 0 0]\n",
      " [0 0 0 0 0 0 0 0 8 0]\n",
      " [0 0 0 0 0 0 0 0 0 9]]\n"
     ]
    }
   ],
   "source": [
    "print(np.diag(range(10)))\n",
    "\n",
    "b = np.zeros((10,10), dtype=int)\n",
    "for i in range(10):\n",
    "    b[i,i] = i\n",
    "print(b)"
   ]
  },
  {
   "cell_type": "code",
   "execution_count": null,
   "metadata": {},
   "outputs": [],
   "source": []
  }
 ],
 "metadata": {
  "kernelspec": {
   "display_name": "Python 3",
   "language": "python",
   "name": "python3"
  },
  "language_info": {
   "codemirror_mode": {
    "name": "ipython",
    "version": 3
   },
   "file_extension": ".py",
   "mimetype": "text/x-python",
   "name": "python",
   "nbconvert_exporter": "python",
   "pygments_lexer": "ipython3",
   "version": "3.6.8"
  }
 },
 "nbformat": 4,
 "nbformat_minor": 2
}
