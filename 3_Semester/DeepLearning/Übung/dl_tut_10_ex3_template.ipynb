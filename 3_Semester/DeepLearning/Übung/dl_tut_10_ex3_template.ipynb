{
 "cells": [
  {
   "cell_type": "code",
   "execution_count": null,
   "metadata": {
    "colab": {
     "base_uri": "https://localhost:8080/",
     "height": 81
    },
    "colab_type": "code",
    "id": "vmY03fYCu8kC",
    "outputId": "e2b75a04-a3fb-46fe-d987-f78d8cc9fdb6"
   },
   "outputs": [],
   "source": [
    "from keras.models import Sequential\n",
    "from keras.layers import Dense, Activation, Flatten, Reshape, BatchNormalization\n",
    "from keras.layers import Conv2D, UpSampling2D, BatchNormalization, Reshape\n",
    "from keras.layers import LeakyReLU, Dropout, MaxPooling2D, Activation, Conv2DTranspose\n",
    "from keras.optimizers import Adam, SGD, RMSprop\n",
    "\n",
    "import numpy as np\n",
    "import matplotlib.pyplot as plt\n",
    "from IPython.display import clear_output, Image\n",
    "import os\n",
    "import glob\n",
    "import scipy.misc"
   ]
  },
  {
   "cell_type": "code",
   "execution_count": 0,
   "metadata": {
    "colab": {},
    "colab_type": "code",
    "id": "l43fUjn7OkwV"
   },
   "outputs": [],
   "source": [
    "ITERATIONS = 10001\n",
    "# I suggest to use uniform random noise vectors of size 100\n",
    "SAMPLE_DIM = 100"
   ]
  },
  {
   "cell_type": "code",
   "execution_count": 0,
   "metadata": {
    "colab": {},
    "colab_type": "code",
    "id": "tu9KbyJku8kL"
   },
   "outputs": [],
   "source": [
    "def discriminator():\n",
    "    pass\n",
    "    \n"
   ]
  },
  {
   "cell_type": "code",
   "execution_count": 0,
   "metadata": {
    "colab": {},
    "colab_type": "code",
    "id": "HvPMV_QCu8kT"
   },
   "outputs": [],
   "source": [
    "def generator():\n",
    "    pass\n"
   ]
  },
  {
   "cell_type": "code",
   "execution_count": 0,
   "metadata": {
    "colab": {},
    "colab_type": "code",
    "id": "r5j7wBfku8kY"
   },
   "outputs": [],
   "source": []
  },
  {
   "cell_type": "code",
   "execution_count": 0,
   "metadata": {
    "colab": {},
    "colab_type": "code",
    "id": "m-gmgAKDu8ki"
   },
   "outputs": [],
   "source": [
    "import numpy as np\n",
    "from tensorflow.examples.tutorials.mnist import input_data\n",
    "x_train = input_data.read_data_sets(\"mnist\", one_hot=True).train.images\n",
    "x_train = x_train.reshape(-1, 28, 28, 1).astype(np.float32)"
   ]
  },
  {
   "cell_type": "code",
   "execution_count": 0,
   "metadata": {
    "colab": {
     "base_uri": "https://localhost:8080/",
     "height": 297
    },
    "colab_type": "code",
    "id": "I78jS0Ivu8km",
    "outputId": "ff6f7441-ea7a-44d4-e247-735097d6f4aa"
   },
   "outputs": [
    {
     "data": {
      "image/png": "[encoded data removed]",
      "text/plain": [
       "<Figure size 1800x360 with 20 Axes>"
      ]
     },
     "metadata": {
      "tags": []
     },
     "output_type": "display_data"
    }
   ],
   "source": [
    "images = x_train[140:160]\n",
    "\n",
    "plt.figure(figsize=(25,5))\n",
    "\n",
    "for im in range(images.shape[0]):\n",
    "    plt.subplot(2, 10, im+1)\n",
    "    image = images[im, :, :, :]\n",
    "    image = np.reshape(image, [28, 28])\n",
    "\n",
    "    plt.imshow(image, cmap='gray')\n",
    "    plt.axis('off')"
   ]
  },
  {
   "cell_type": "code",
   "execution_count": 0,
   "metadata": {
    "colab": {},
    "colab_type": "code",
    "id": "bq9utwliu8kr"
   },
   "outputs": [],
   "source": [
    "loss_adv = []\n",
    "loss_dis = []\n",
    "acc_adv = []\n",
    "acc_dis = []\n",
    "plot_iteration = []\n",
    "\n",
    "\n",
    "test_noise = np.random.uniform(-1.0, 1.0, size=[10, SAMPLE_DIM])\n",
    "\n",
    "\n",
    "for i in range(ITERATIONS):\n",
    "\n",
    "    # Your code\n",
    "\n",
    "\n",
    "    if i % 50 == 0:\n",
    "\n",
    "        clear_output(wait=True)\n",
    "\n",
    "        plot_iteration.append(i)\n",
    "        loss_adv.append(a_stats[0])\n",
    "        loss_dis.append(d_stats[0])\n",
    "        acc_adv.append(a_stats[1])\n",
    "        acc_dis.append(d_stats[1])\n",
    "\n",
    "        fig, ax = plt.subplots(1,2)\n",
    "        fig.set_size_inches(16, 8)\n",
    "\n",
    "        ax[0].plot(plot_iteration, loss_adv, label=\"loss adversarial\")\n",
    "        ax[0].plot(plot_iteration, loss_dis, label=\"loss discriminator\")\n",
    "        ax[0].legend()\n",
    "        ax[0].set_ylim(top=2)\n",
    "\n",
    "        ax[1].plot(plot_iteration, acc_adv, label=\"Accuracy adversarial\")\n",
    "        ax[1].plot(plot_iteration, acc_dis, label=\"Accuracy discriminator\")\n",
    "        ax[1].legend()\n",
    "        \n",
    "        test_samples = net_generator.predict(test_noise)\n",
    "        \n",
    "        \n",
    "        plt.figure(figsize=(20,10))\n",
    "\n",
    "        for im in range(test_samples.shape[0]):\n",
    "            plt.subplot(1, 10, im+1)\n",
    "            image = test_samples[im, :, :, :]\n",
    "            image = np.reshape(image, [28, 28])\n",
    "\n",
    "            plt.imshow(image, cmap='gray')\n",
    "            plt.axis('off')\n",
    "      \n",
    "\n",
    "        plt.show()\n"
   ]
  },
  {
   "cell_type": "code",
   "execution_count": 0,
   "metadata": {
    "colab": {},
    "colab_type": "code",
    "id": "SeuxQjgIEHQD"
   },
   "outputs": [],
   "source": []
  }
 ],
 "metadata": {
  "accelerator": "GPU",
  "colab": {
   "collapsed_sections": [],
   "name": "dl_tut_10_ex3_template.ipynb",
   "provenance": []
  },
  "kernelspec": {
   "display_name": "Python 3",
   "language": "python",
   "name": "python3"
  },
  "language_info": {
   "codemirror_mode": {
    "name": "ipython",
    "version": 3
   },
   "file_extension": ".py",
   "mimetype": "text/x-python",
   "name": "python",
   "nbconvert_exporter": "python",
   "pygments_lexer": "ipython3",
   "version": "3.7.1"
  }
 },
 "nbformat": 4,
 "nbformat_minor": 1
}
