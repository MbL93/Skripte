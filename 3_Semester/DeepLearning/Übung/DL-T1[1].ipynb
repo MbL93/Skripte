{
 "cells": [
  {
   "cell_type": "markdown",
   "metadata": {
    "colab_type": "text",
    "id": "4jd9NO2RA3NP"
   },
   "source": [
    "## DL Tutorial 1 - Python -  Numpy and Matplotlib\n",
    "Alice Baird alice.baird@informatik.uni-augsburg.de \n",
    "\n",
    ">* Basic Python: 'math', data types (list, dictionary, set, tuple), function, class\n",
    ">* Introduction to Numpy: array, indexing, matrix operation, broadcasting, sort\n",
    "\n",
    "\n",
    "Adapted from the `CS231n` Python tutorial by Justin Johnson (http://cs231n.github.io/python-numpy-tutorial/)."
   ]
  },
  {
   "cell_type": "markdown",
   "metadata": {
    "colab_type": "text",
    "id": "E74QVOZ6A-Ki"
   },
   "source": [
    "# Basics of Python\n",
    "\n",
    "Python is a strong general-purpose programming language on its own, but with the the addition of a huge number of opensource libraries including the core libraries such as, numpy, scipy, pandas, matplotlib, and libraries specific to machine learning, e.g., Scikit-learn, and deep learning,  e.g., Keras, TensorFlow, or pytorch it becomes a powerful environment for data science.\n",
    "\n",
    "We expect that some of you may already have some experience with Python and Numpy; for the rest of you, today's section will be a quick crash course on the python programming language and core libraries (numpy and matploib) for scientific computing and basic data visualisation."
   ]
  },
  {
   "cell_type": "markdown",
   "metadata": {
    "colab_type": "text",
    "id": "NXnVhBI9A4w3"
   },
   "source": [
    "### Numbers\n",
    "integers and floats "
   ]
  },
  {
   "cell_type": "code",
   "execution_count": 1,
   "metadata": {
    "cellView": "both",
    "colab": {
     "base_uri": "https://localhost:8080/",
     "height": 34
    },
    "colab_type": "code",
    "executionInfo": {
     "elapsed": 1928,
     "status": "ok",
     "timestamp": 1569504612843,
     "user": {
      "displayName": "Jing Han",
      "photoUrl": "",
      "userId": "10643671355789923483"
     },
     "user_tz": -120
    },
    "id": "w9OPV1c8A3yn",
    "outputId": "897da74c-f489-471f-c6b1-0d6e27017545"
   },
   "outputs": [
    {
     "name": "stdout",
     "output_type": "stream",
     "text": [
      "26 <class 'int'> 26.0 <class 'float'>\n"
     ]
    }
   ],
   "source": [
    "x = 26\n",
    "y = 26.0\n",
    "print(x, type(x), y, type(y))"
   ]
  },
  {
   "cell_type": "markdown",
   "metadata": {
    "colab_type": "text",
    "id": "GwfGfIYaGFgj"
   },
   "source": [
    "and we can do operations:"
   ]
  },
  {
   "cell_type": "code",
   "execution_count": 2,
   "metadata": {
    "colab": {
     "base_uri": "https://localhost:8080/",
     "height": 122
    },
    "colab_type": "code",
    "executionInfo": {
     "elapsed": 1880,
     "status": "ok",
     "timestamp": 1569504612849,
     "user": {
      "displayName": "Jing Han",
      "photoUrl": "",
      "userId": "10643671355789923483"
     },
     "user_tz": -120
    },
    "id": "9xnpVvQVGDat",
    "outputId": "fd974d69-9606-4bc7-c6bc-fc1d6aa71130"
   },
   "outputs": [
    {
     "name": "stdout",
     "output_type": "stream",
     "text": [
      "27\n",
      "25\n",
      "130\n",
      "6.5\n",
      "6\n",
      "676\n"
     ]
    }
   ],
   "source": [
    "print(x + 1) # addition;\n",
    "print(x - 1) # subtraction;\n",
    "print(x * 5) # multiplication;\n",
    "print(x / 4) # float devision;\n",
    "print(x // 4) #integer division;\n",
    "print(x ** 2) # exponentiation;"
   ]
  },
  {
   "cell_type": "markdown",
   "metadata": {
    "colab_type": "text",
    "id": "Y3LJ56b5AyI0"
   },
   "source": [
    "### Strings\n",
    "\n",
    "either '' or \"\" work to define strings\n"
   ]
  },
  {
   "cell_type": "code",
   "execution_count": 3,
   "metadata": {
    "colab": {
     "base_uri": "https://localhost:8080/",
     "height": 52
    },
    "colab_type": "code",
    "executionInfo": {
     "elapsed": 705,
     "status": "ok",
     "timestamp": 1569504668476,
     "user": {
      "displayName": "Jing Han",
      "photoUrl": "",
      "userId": "10643671355789923483"
     },
     "user_tz": -120
    },
    "id": "yp_E2MifmY_E",
    "outputId": "38759c6c-7707-4a64-fdba-78a9207106c9"
   },
   "outputs": [
    {
     "name": "stdout",
     "output_type": "stream",
     "text": [
      "hello world! 12\n",
      "hello world! 12\n"
     ]
    }
   ],
   "source": [
    "word1 = 'hello world!'\n",
    "word2 = \"hello world!\"\n",
    "print(word1, len(word1))\n",
    "print(word2, len(word2))"
   ]
  },
  {
   "cell_type": "markdown",
   "metadata": {
    "colab_type": "text",
    "id": "iHd7pqWEmZfF"
   },
   "source": [
    "operations on strings can be:"
   ]
  },
  {
   "cell_type": "code",
   "execution_count": 4,
   "metadata": {
    "colab": {
     "base_uri": "https://localhost:8080/",
     "height": 71
    },
    "colab_type": "code",
    "executionInfo": {
     "elapsed": 1117,
     "status": "ok",
     "timestamp": 1569499591636,
     "user": {
      "displayName": "Jing Han",
      "photoUrl": "",
      "userId": "10643671355789923483"
     },
     "user_tz": -120
    },
    "id": "riiKluUtIMW-",
    "outputId": "1f2c7a4d-5f05-4ba3-f610-029e49c9bdfa"
   },
   "outputs": [
    {
     "name": "stdout",
     "output_type": "stream",
     "text": [
      "Hello world!\n",
      "HELLO WORLD!\n",
      "hello phthon!\n"
     ]
    }
   ],
   "source": [
    "print(word1.capitalize())  # Capitalize a string\n",
    "print(word1.upper())       # Convert a string to uppercase\n",
    "print(word1.replace('world', 'phthon'))  # Replace all instances of one substring with another;"
   ]
  },
  {
   "cell_type": "markdown",
   "metadata": {},
   "source": [
    "you can convert a string to a interget and vice versa "
   ]
  },
  {
   "cell_type": "code",
   "execution_count": 25,
   "metadata": {
    "scrolled": true
   },
   "outputs": [
    {
     "name": "stdout",
     "output_type": "stream",
     "text": [
      "this is the_integer:  <class 'str'> \n",
      "this is the_string: <class 'int'>\n"
     ]
    }
   ],
   "source": [
    "the_string = '100'\n",
    "the_integer = 100 \n",
    "the_string = int(the_string)\n",
    "the_integer = str(the_integer)\n",
    "print('this is the_integer: ', type(the_integer), '\\nthis is the_string:', type(the_string))"
   ]
  },
  {
   "cell_type": "markdown",
   "metadata": {
    "colab_type": "text",
    "id": "jMGy4ZBeIx0h"
   },
   "source": [
    "### Lists\n",
    "\n",
    "a list is the Python equivalent of an array, but is resizeable and can contain elements of different types:"
   ]
  },
  {
   "cell_type": "code",
   "execution_count": 29,
   "metadata": {
    "colab": {
     "base_uri": "https://localhost:8080/",
     "height": 53
    },
    "colab_type": "code",
    "executionInfo": {
     "elapsed": 489,
     "status": "ok",
     "timestamp": 1569499598382,
     "user": {
      "displayName": "Jing Han",
      "photoUrl": "",
      "userId": "10643671355789923483"
     },
     "user_tz": -120
    },
    "id": "jUGkVLPpJH5b",
    "outputId": "bd44eeb4-8afd-478b-f44e-f6577dd1e62c"
   },
   "outputs": [
    {
     "name": "stdout",
     "output_type": "stream",
     "text": [
      "the list = [1, 2, 3, 4, 5]\n",
      "the 2nd index of the list = 2\n",
      "last index of the list = 5\n",
      "penultimate index of the list = 4\n"
     ]
    }
   ],
   "source": [
    "l1 = [1, 2, 3, 4, 5] # creat a list with 5 elements\n",
    "print('the list = ' + str(l1) + '\\nthe 2nd index of the list = ' + str(l1[1])) # indexing of a list count from 0 instead of 1, therefore l1[1] is 2 instead of 1.\n",
    "print('last index of the list = ' + str(l1[-1]) + '\\npenultimate index of the list = ' + str(l1[-2])) # negative indices count from the end of the list, therefore l1[-1] is 5, l1[-2] is 4."
   ]
  },
  {
   "cell_type": "markdown",
   "metadata": {},
   "source": [
    "you can replace element of a list with a string "
   ]
  },
  {
   "cell_type": "code",
   "execution_count": 27,
   "metadata": {
    "colab": {
     "base_uri": "https://localhost:8080/",
     "height": 35
    },
    "colab_type": "code",
    "executionInfo": {
     "elapsed": 502,
     "status": "ok",
     "timestamp": 1569499603213,
     "user": {
      "displayName": "Jing Han",
      "photoUrl": "",
      "userId": "10643671355789923483"
     },
     "user_tz": -120
    },
    "id": "GlmENlsPJ5qw",
    "outputId": "00e2adc8-c032-4304-cb69-90304dd7b171"
   },
   "outputs": [
    {
     "name": "stdout",
     "output_type": "stream",
     "text": [
      "[1, 2, 3, 'python', 5]\n"
     ]
    }
   ],
   "source": [
    "l1 [3] = \"python\" \n",
    "print(l1)"
   ]
  },
  {
   "cell_type": "markdown",
   "metadata": {},
   "source": [
    "you can add elements to the end of a list "
   ]
  },
  {
   "cell_type": "code",
   "execution_count": 28,
   "metadata": {
    "colab": {
     "base_uri": "https://localhost:8080/",
     "height": 35
    },
    "colab_type": "code",
    "executionInfo": {
     "elapsed": 526,
     "status": "ok",
     "timestamp": 1569499607306,
     "user": {
      "displayName": "Jing Han",
      "photoUrl": "",
      "userId": "10643671355789923483"
     },
     "user_tz": -120
    },
    "id": "mXlotMCkKJFh",
    "outputId": "dbfc7fba-a795-40a7-bb77-f9b48b1ea2fe"
   },
   "outputs": [
    {
     "name": "stdout",
     "output_type": "stream",
     "text": [
      "[1, 2, 3, 'python', 5, 'world', 100]\n"
     ]
    }
   ],
   "source": [
    "l1.append(\"world\") # add a new element to the end of the list\n",
    "l1.append(100)\n",
    "print(l1)"
   ]
  },
  {
   "cell_type": "markdown",
   "metadata": {
    "colab_type": "text",
    "id": "x_mFEWTeH26f"
   },
   "source": [
    "### list comprehensions\n",
    "when programming, we can transform one type of data into another, by using what is known as list comprehension:"
   ]
  },
  {
   "cell_type": "code",
   "execution_count": 30,
   "metadata": {
    "colab": {
     "base_uri": "https://localhost:8080/",
     "height": 35
    },
    "colab_type": "code",
    "executionInfo": {
     "elapsed": 587,
     "status": "ok",
     "timestamp": 1569499613343,
     "user": {
      "displayName": "Jing Han",
      "photoUrl": "",
      "userId": "10643671355789923483"
     },
     "user_tz": -120
    },
    "id": "bvCcZEWnIF9B",
    "outputId": "bc562f98-4b11-4061-cc81-c5f706372ef4"
   },
   "outputs": [
    {
     "name": "stdout",
     "output_type": "stream",
     "text": [
      "[0, 1, 4, 9, 16]\n"
     ]
    }
   ],
   "source": [
    "nums = [0, 1, 2, 3, 4]\n",
    "squares = [x ** 2 for x in nums] # e.g. for each interger in nums, compute the square root\n",
    "print(squares)"
   ]
  },
  {
   "cell_type": "markdown",
   "metadata": {
    "colab_type": "text",
    "id": "fiLZ8vBnIJGK"
   },
   "source": [
    "list comprehensions can also contain conditions:"
   ]
  },
  {
   "cell_type": "code",
   "execution_count": 31,
   "metadata": {
    "colab": {
     "base_uri": "https://localhost:8080/",
     "height": 35
    },
    "colab_type": "code",
    "executionInfo": {
     "elapsed": 489,
     "status": "ok",
     "timestamp": 1569499624797,
     "user": {
      "displayName": "Jing Han",
      "photoUrl": "",
      "userId": "10643671355789923483"
     },
     "user_tz": -120
    },
    "id": "yXasnyBtIN0Z",
    "outputId": "fbc9d03f-4d46-4792-e9be-10ba13ef18c4"
   },
   "outputs": [
    {
     "name": "stdout",
     "output_type": "stream",
     "text": [
      "[0, 4, 16]\n"
     ]
    }
   ],
   "source": [
    "nums = [0, 1, 2, 3, 4]\n",
    "even_squares = [x ** 2 for x in nums if x % 2 == 0] # e.g., if the interger in nums is even comput the sqr\n",
    "print(even_squares)"
   ]
  },
  {
   "cell_type": "markdown",
   "metadata": {
    "colab_type": "text",
    "id": "V8Z6qZdRKZAL"
   },
   "source": [
    "### indexing\n",
    "in addition to accessing list elements one at a time, python also provides concise syntax to access sublists"
   ]
  },
  {
   "cell_type": "code",
   "execution_count": 33,
   "metadata": {
    "colab": {
     "base_uri": "https://localhost:8080/",
     "height": 35
    },
    "colab_type": "code",
    "executionInfo": {
     "elapsed": 539,
     "status": "ok",
     "timestamp": 1569501638623,
     "user": {
      "displayName": "Jing Han",
      "photoUrl": "",
      "userId": "10643671355789923483"
     },
     "user_tz": -120
    },
    "id": "qD7Y6K17K5om",
    "outputId": "afbe69de-255c-4f61-d1fa-a7cf4070b818"
   },
   "outputs": [
    {
     "name": "stdout",
     "output_type": "stream",
     "text": [
      "[0, 1, 2, 3, 4]\n"
     ]
    }
   ],
   "source": [
    "l2 = list(range(5)) # range is a build-in function to creat a list of integers with a defined range..\n",
    "print(l2)"
   ]
  },
  {
   "cell_type": "code",
   "execution_count": 34,
   "metadata": {
    "colab": {
     "base_uri": "https://localhost:8080/",
     "height": 35
    },
    "colab_type": "code",
    "executionInfo": {
     "elapsed": 552,
     "status": "ok",
     "timestamp": 1569501643460,
     "user": {
      "displayName": "Jing Han",
      "photoUrl": "",
      "userId": "10643671355789923483"
     },
     "user_tz": -120
    },
    "id": "bBNgKtxp-xDz",
    "outputId": "a9a10d73-2a4f-40ff-c8ba-72f62f65b329"
   },
   "outputs": [
    {
     "name": "stdout",
     "output_type": "stream",
     "text": [
      "[2, 3]\n"
     ]
    }
   ],
   "source": [
    "print(l2[2:4]) #use a colon to get a sublist from index 2 to 4 (2 is inclusive and 4 is exclusive)"
   ]
  },
  {
   "cell_type": "code",
   "execution_count": 0,
   "metadata": {
    "colab": {
     "base_uri": "https://localhost:8080/",
     "height": 35
    },
    "colab_type": "code",
    "executionInfo": {
     "elapsed": 516,
     "status": "ok",
     "timestamp": 1569499791334,
     "user": {
      "displayName": "Jing Han",
      "photoUrl": "",
      "userId": "10643671355789923483"
     },
     "user_tz": -120
    },
    "id": "OVc_8h6zAdvu",
    "outputId": "be2775b8-530a-42fc-9b02-061b7e8c7cdc"
   },
   "outputs": [
    {
     "name": "stdout",
     "output_type": "stream",
     "text": [
      "[2, 3, 4]\n"
     ]
    }
   ],
   "source": [
    "print(l2[2:]) # index 2 to the end of the list"
   ]
  },
  {
   "cell_type": "code",
   "execution_count": 0,
   "metadata": {
    "colab": {
     "base_uri": "https://localhost:8080/",
     "height": 35
    },
    "colab_type": "code",
    "executionInfo": {
     "elapsed": 536,
     "status": "ok",
     "timestamp": 1569499793883,
     "user": {
      "displayName": "Jing Han",
      "photoUrl": "",
      "userId": "10643671355789923483"
     },
     "user_tz": -120
    },
    "id": "a-4A1DN2Av_E",
    "outputId": "7ccae410-8869-4c5c-ab89-869727d816de"
   },
   "outputs": [
    {
     "name": "stdout",
     "output_type": "stream",
     "text": [
      "[0, 1, 2]\n"
     ]
    }
   ],
   "source": [
    "print(l2[:3]) # from the start till 3 (exclusive)"
   ]
  },
  {
   "cell_type": "markdown",
   "metadata": {
    "colab_type": "text",
    "id": "G-Gvb_YrcX0f"
   },
   "source": [
    "### Dictionaries\n",
    "\n",
    "a dictionary stores (key, value) pairs"
   ]
  },
  {
   "cell_type": "code",
   "execution_count": 37,
   "metadata": {
    "colab": {
     "base_uri": "https://localhost:8080/",
     "height": 71
    },
    "colab_type": "code",
    "executionInfo": {
     "elapsed": 550,
     "status": "ok",
     "timestamp": 1569499808505,
     "user": {
      "displayName": "Jing Han",
      "photoUrl": "",
      "userId": "10643671355789923483"
     },
     "user_tz": -120
    },
    "id": "PhJTwYAyojkh",
    "outputId": "3dbc330f-3e79-457b-aaf1-809d9ce1e7a2"
   },
   "outputs": [
    {
     "name": "stdout",
     "output_type": "stream",
     "text": [
      "small\n",
      "True\n",
      "wet\n",
      "{'cat': 'small', 'dog': 'big', 'fish': 'wet'}\n"
     ]
    }
   ],
   "source": [
    "d = {'cat': 'small', 'dog': 'big'}  # Create a new dictionary with some data\n",
    "print(d['cat'])       # Get an entry from a dictionary\n",
    "print('cat' in d)     # Check if a dictionary has a given key\n",
    "d['fish'] = 'wet'    # Set an entry in a dictionary\n",
    "print(d['fish'])\n",
    "print(d)"
   ]
  },
  {
   "cell_type": "markdown",
   "metadata": {
    "colab_type": "text",
    "id": "cKyuntSmpN1U"
   },
   "source": [
    "### Sets\n",
    "a set is an unordered collection of elements"
   ]
  },
  {
   "cell_type": "code",
   "execution_count": 38,
   "metadata": {
    "colab": {
     "base_uri": "https://localhost:8080/",
     "height": 53
    },
    "colab_type": "code",
    "executionInfo": {
     "elapsed": 528,
     "status": "ok",
     "timestamp": 1569499833700,
     "user": {
      "displayName": "Jing Han",
      "photoUrl": "",
      "userId": "10643671355789923483"
     },
     "user_tz": -120
    },
    "id": "Xdf5hR2apawu",
    "outputId": "cce2b332-35cd-4b95-9ec1-e53b7730b3f7"
   },
   "outputs": [
    {
     "name": "stdout",
     "output_type": "stream",
     "text": [
      "True\n",
      "False\n"
     ]
    }
   ],
   "source": [
    "animals = {'dog', 'cat', 'fish'}\n",
    "print('dog' in animals) # check if an element is in a set\n",
    "print('bird' in animals)"
   ]
  },
  {
   "cell_type": "code",
   "execution_count": 39,
   "metadata": {
    "colab": {
     "base_uri": "https://localhost:8080/",
     "height": 53
    },
    "colab_type": "code",
    "executionInfo": {
     "elapsed": 513,
     "status": "ok",
     "timestamp": 1569499841076,
     "user": {
      "displayName": "Jing Han",
      "photoUrl": "",
      "userId": "10643671355789923483"
     },
     "user_tz": -120
    },
    "id": "j0F03vaJptVX",
    "outputId": "00a6a5f9-405b-4d0c-8078-c43f72164f26"
   },
   "outputs": [
    {
     "name": "stdout",
     "output_type": "stream",
     "text": [
      "{'dog', 'cat', 'fish'}\n",
      "{'dog', 'cat', 'fish'}\n",
      "{'dog', 'cat', 'bird', 'fish'}\n"
     ]
    }
   ],
   "source": [
    "print(animals)\n",
    "animals.add('fish') # adding an element that is already in the set does nothing\n",
    "print(animals)\n",
    "animals.add('bird')\n",
    "print(animals)"
   ]
  },
  {
   "cell_type": "markdown",
   "metadata": {
    "colab_type": "text",
    "id": "bwj2Rm-xpt0_"
   },
   "source": [
    "### Tuples\n",
    "a tuple is an ordered list of values. It is similar to a list, but it can be used as keys in dictionaries and as elements of sets, while lists cannot."
   ]
  },
  {
   "cell_type": "code",
   "execution_count": 54,
   "metadata": {
    "colab": {
     "base_uri": "https://localhost:8080/",
     "height": 71
    },
    "colab_type": "code",
    "executionInfo": {
     "elapsed": 536,
     "status": "ok",
     "timestamp": 1569499859854,
     "user": {
      "displayName": "Jing Han",
      "photoUrl": "",
      "userId": "10643671355789923483"
     },
     "user_tz": -120
    },
    "id": "3KDXlv16puH_",
    "outputId": "1d0b4e62-f463-4a4a-a019-52a9f8b2aabc"
   },
   "outputs": [
    {
     "name": "stdout",
     "output_type": "stream",
     "text": [
      "<class 'tuple'>\n",
      "5\n",
      "(5, 6)\n",
      "{(0, 1): 0, (1, 2): 1, (2, 3): 2, (3, 4): 3, (4, 5): 4, (5, 6): 5}\n"
     ]
    }
   ],
   "source": [
    "d = {(x, x + 1): x for x in range(6)}  # Create a dictionary with tuple keys\n",
    "t = (5, 6)       # Create a tuple\n",
    "print(type(t))\n",
    "print(d[t])\n",
    "print(t)\n",
    "print(d)"
   ]
  },
  {
   "cell_type": "markdown",
   "metadata": {
    "colab_type": "text",
    "id": "M_RZ67jupuYv"
   },
   "source": [
    "### Functions\n",
    "python functions are defined using the keyword 'def', for example (be careful with the indent):"
   ]
  },
  {
   "cell_type": "code",
   "execution_count": 57,
   "metadata": {
    "colab": {
     "base_uri": "https://localhost:8080/",
     "height": 71
    },
    "colab_type": "code",
    "executionInfo": {
     "elapsed": 537,
     "status": "ok",
     "timestamp": 1569499907192,
     "user": {
      "displayName": "Jing Han",
      "photoUrl": "",
      "userId": "10643671355789923483"
     },
     "user_tz": -120
    },
    "id": "YRHH-_jppun_",
    "outputId": "06442ce9-44e1-4e94-f1bb-b1d2dcc93857"
   },
   "outputs": [
    {
     "name": "stdout",
     "output_type": "stream",
     "text": [
      "-1 is negative\n",
      "0 is zero\n",
      "1 is positive\n",
      "negative\n"
     ]
    }
   ],
   "source": [
    "def sign(x):\n",
    "    if x > 0:\n",
    "        return 'positive'\n",
    "    elif x < 0:\n",
    "        return 'negative'\n",
    "    else:\n",
    "        return 'zero'\n",
    "\n",
    "for x in [-1, 0, 1]:\n",
    "    print(x, 'is', sign(x))\n",
    "    \n",
    "print(sign(-20))"
   ]
  },
  {
   "cell_type": "markdown",
   "metadata": {
    "colab_type": "text",
    "id": "tAkXse4Nrshy"
   },
   "source": [
    "another example is as follows:"
   ]
  },
  {
   "cell_type": "code",
   "execution_count": 58,
   "metadata": {
    "colab": {
     "base_uri": "https://localhost:8080/",
     "height": 53
    },
    "colab_type": "code",
    "executionInfo": {
     "elapsed": 517,
     "status": "ok",
     "timestamp": 1569499925250,
     "user": {
      "displayName": "Jing Han",
      "photoUrl": "",
      "userId": "10643671355789923483"
     },
     "user_tz": -120
    },
    "id": "J9wGO-Mbrx86",
    "outputId": "a14227f4-1251-451b-a397-a0cac31f1d8b"
   },
   "outputs": [
    {
     "name": "stdout",
     "output_type": "stream",
     "text": [
      "Hello, world!\n",
      "HELLO, WORLD!!!\n"
     ]
    }
   ],
   "source": [
    "def hello(name, loud=False):\n",
    "    if loud:\n",
    "        print('HELLO, %s!!!' % name.upper())\n",
    "    else:\n",
    "        print('Hello, %s!' % name)\n",
    "\n",
    "hello('world')\n",
    "hello('world', loud=True)"
   ]
  },
  {
   "cell_type": "markdown",
   "metadata": {
    "colab_type": "text",
    "id": "WqWl0lDmsBAM"
   },
   "source": [
    "### Classes\n",
    "with python you can also define classes"
   ]
  },
  {
   "cell_type": "code",
   "execution_count": 59,
   "metadata": {
    "colab": {
     "base_uri": "https://localhost:8080/",
     "height": 53
    },
    "colab_type": "code",
    "executionInfo": {
     "elapsed": 519,
     "status": "ok",
     "timestamp": 1569499938354,
     "user": {
      "displayName": "Jing Han",
      "photoUrl": "",
      "userId": "10643671355789923483"
     },
     "user_tz": -120
    },
    "id": "2OXkwM-bsBVc",
    "outputId": "dc47cc14-eb2c-442a-ed9a-9f4f764efbbd"
   },
   "outputs": [
    {
     "name": "stdout",
     "output_type": "stream",
     "text": [
      "Hello, world!\n",
      "HELLO, WORLD!!!\n"
     ]
    }
   ],
   "source": [
    "class Greeter:\n",
    "    # Constructor\n",
    "    def __init__(self, name):\n",
    "        self.name = name  # Create an instance variable\n",
    "\n",
    "    # Instance method\n",
    "    def greet(self, loud=False):\n",
    "        if loud:\n",
    "            print('HELLO, %s!!!' % self.name.upper())\n",
    "        else:\n",
    "            print('Hello, %s!' % self.name)\n",
    "\n",
    "g = Greeter('world')  # Construct an instance of the Greeter class\n",
    "g.greet()            # Call an instance method;\n",
    "g.greet(loud=True)   # Call an instance method;"
   ]
  },
  {
   "cell_type": "markdown",
   "metadata": {
    "colab_type": "text",
    "id": "7XFEsIPEsBps"
   },
   "source": [
    "## Numpy\n",
    "\n",
    "Numpy is a core library for scientific computing in python. It provides a high-performance multidimensional array object, and tools for working with these arrays. \n",
    "\n",
    "To use Numpy, we first need to import the numpy package:"
   ]
  },
  {
   "cell_type": "code",
   "execution_count": 60,
   "metadata": {
    "colab": {},
    "colab_type": "code",
    "id": "IBvaKdJfsB0U"
   },
   "outputs": [],
   "source": [
    "import numpy as np"
   ]
  },
  {
   "cell_type": "markdown",
   "metadata": {
    "colab_type": "text",
    "id": "OlmGYP2EsCC8"
   },
   "source": [
    "A numpy array is a grid of values, all of the same type, and is indexed by a tuple of nonnegative integers. The number of dimensions is the rank of the array; the shape of an array is a tuple of integers giving the size of the array along each dimension.\n",
    "\n",
    "We can initialise numpy arrays from nested Python lists, and access elements using square brackets:\n"
   ]
  },
  {
   "cell_type": "code",
   "execution_count": 61,
   "metadata": {
    "colab": {
     "base_uri": "https://localhost:8080/",
     "height": 53
    },
    "colab_type": "code",
    "executionInfo": {
     "elapsed": 629,
     "status": "ok",
     "timestamp": 1569499972460,
     "user": {
      "displayName": "Jing Han",
      "photoUrl": "",
      "userId": "10643671355789923483"
     },
     "user_tz": -120
    },
    "id": "DoPJDk0dtNPb",
    "outputId": "ef62b240-5374-4249-f276-5eb2b2e88509"
   },
   "outputs": [
    {
     "name": "stdout",
     "output_type": "stream",
     "text": [
      "<class 'numpy.ndarray'> (3,) 1 2 3\n",
      "[5 2 3]\n"
     ]
    }
   ],
   "source": [
    "a = np.array([1, 2, 3])  # Create a rank 1 array\n",
    "print(type(a), a.shape, a[0], a[1], a[2]) # note that indice start from 0\n",
    "a[0] = 5                 # Change an element of the array\n",
    "print(a)"
   ]
  },
  {
   "cell_type": "code",
   "execution_count": null,
   "metadata": {
    "colab": {
     "base_uri": "https://localhost:8080/",
     "height": 53
    },
    "colab_type": "code",
    "executionInfo": {
     "elapsed": 556,
     "status": "ok",
     "timestamp": 1569499977739,
     "user": {
      "displayName": "Jing Han",
      "photoUrl": "",
      "userId": "10643671355789923483"
     },
     "user_tz": -120
    },
    "id": "e-H6qILPDGyT",
    "outputId": "eb01268b-3f24-45ea-f932-0c811e58c8c5"
   },
   "outputs": [],
   "source": [
    "b = np.array([[1,2,3],[4,5,6]])   # Create a rank 2 array\n",
    "print(b)"
   ]
  },
  {
   "cell_type": "code",
   "execution_count": null,
   "metadata": {
    "colab": {
     "base_uri": "https://localhost:8080/",
     "height": 53
    },
    "colab_type": "code",
    "executionInfo": {
     "elapsed": 510,
     "status": "ok",
     "timestamp": 1569499984630,
     "user": {
      "displayName": "Jing Han",
      "photoUrl": "",
      "userId": "10643671355789923483"
     },
     "user_tz": -120
    },
    "id": "Pa9WZ9apDWiE",
    "outputId": "f5c81b2b-56f3-4e64-bd68-41d0be083564"
   },
   "outputs": [],
   "source": [
    "print(b.shape)\n",
    "print(b[0, 0], b[0, 1], b[1, 0])"
   ]
  },
  {
   "cell_type": "markdown",
   "metadata": {
    "colab_type": "text",
    "id": "rfmK-eg2DlOW"
   },
   "source": [
    "numpy also provides many functions to create arrays:"
   ]
  },
  {
   "cell_type": "code",
   "execution_count": null,
   "metadata": {
    "colab": {
     "base_uri": "https://localhost:8080/",
     "height": 161
    },
    "colab_type": "code",
    "executionInfo": {
     "elapsed": 537,
     "status": "ok",
     "timestamp": 1569499992530,
     "user": {
      "displayName": "Jing Han",
      "photoUrl": "",
      "userId": "10643671355789923483"
     },
     "user_tz": -120
    },
    "id": "vni_BVYWDp4G",
    "outputId": "36fc7d15-af63-47c4-9c60-18b44b45ec43"
   },
   "outputs": [],
   "source": [
    "a = np.zeros((3,1,2)) # create a rank 3 array of all zeros\n",
    "print(a, a.shape)\n",
    "print(a[0, 0, 0])\n",
    "print(a[0, :, :], a[0, :, :].shape)\n",
    "print(a[:, 0, 0], a[:, 0, 0].shape)"
   ]
  },
  {
   "cell_type": "code",
   "execution_count": null,
   "metadata": {
    "colab": {
     "base_uri": "https://localhost:8080/",
     "height": 701
    },
    "colab_type": "code",
    "executionInfo": {
     "elapsed": 538,
     "status": "ok",
     "timestamp": 1569500019683,
     "user": {
      "displayName": "Jing Han",
      "photoUrl": "",
      "userId": "10643671355789923483"
     },
     "user_tz": -120
    },
    "id": "gkYvtJcmFIt-",
    "outputId": "51ab23d9-f287-4835-f64c-8bc64e549587"
   },
   "outputs": [],
   "source": [
    "b = np.ones((4,3,2,2))   # Create a rank 4 array of all ones\n",
    "print(b)"
   ]
  },
  {
   "cell_type": "code",
   "execution_count": null,
   "metadata": {
    "colab": {
     "base_uri": "https://localhost:8080/",
     "height": 53
    },
    "colab_type": "code",
    "executionInfo": {
     "elapsed": 616,
     "status": "ok",
     "timestamp": 1569500031195,
     "user": {
      "displayName": "Jing Han",
      "photoUrl": "",
      "userId": "10643671355789923483"
     },
     "user_tz": -120
    },
    "id": "OC8Iid0pGGzt",
    "outputId": "a7c027e8-8ad8-41ba-cb96-67291c28059a"
   },
   "outputs": [],
   "source": [
    "c = np.full((2,2), 500) # Create a constant array\n",
    "print(c)"
   ]
  },
  {
   "cell_type": "code",
   "execution_count": null,
   "metadata": {
    "colab": {
     "base_uri": "https://localhost:8080/",
     "height": 71
    },
    "colab_type": "code",
    "executionInfo": {
     "elapsed": 635,
     "status": "ok",
     "timestamp": 1569500037109,
     "user": {
      "displayName": "Jing Han",
      "photoUrl": "",
      "userId": "10643671355789923483"
     },
     "user_tz": -120
    },
    "id": "f1NOo6WeGHdV",
    "outputId": "75432afd-364f-41d8-ce0e-c783c3386273"
   },
   "outputs": [],
   "source": [
    "d = np.eye(10) # create an identity matrix\n",
    "print(d)"
   ]
  },
  {
   "cell_type": "code",
   "execution_count": null,
   "metadata": {
    "colab": {
     "base_uri": "https://localhost:8080/",
     "height": 53
    },
    "colab_type": "code",
    "executionInfo": {
     "elapsed": 540,
     "status": "ok",
     "timestamp": 1569500044813,
     "user": {
      "displayName": "Jing Han",
      "photoUrl": "",
      "userId": "10643671355789923483"
     },
     "user_tz": -120
    },
    "id": "GKK7y5zJGHpd",
    "outputId": "87e9f632-2d57-4353-9ccf-7e1e5cd913bc"
   },
   "outputs": [],
   "source": [
    "e = np.random.random((2,2)) # create an array filled with random values\n",
    "print(e)"
   ]
  },
  {
   "cell_type": "markdown",
   "metadata": {
    "colab_type": "text",
    "id": "m6BuTCQeGH1t"
   },
   "source": [
    "### Array indexing"
   ]
  },
  {
   "cell_type": "code",
   "execution_count": null,
   "metadata": {
    "colab": {
     "base_uri": "https://localhost:8080/",
     "height": 71
    },
    "colab_type": "code",
    "executionInfo": {
     "elapsed": 537,
     "status": "ok",
     "timestamp": 1569500050684,
     "user": {
      "displayName": "Jing Han",
      "photoUrl": "",
      "userId": "10643671355789923483"
     },
     "user_tz": -120
    },
    "id": "_1p5nXDUGICV",
    "outputId": "f96e7d05-768d-4594-9efa-cf28328360e1"
   },
   "outputs": [],
   "source": [
    "a = np.array([[1,2,3,4], [5,6,7,8], [9,10,11,12]])\n",
    "print(a)"
   ]
  },
  {
   "cell_type": "markdown",
   "metadata": {
    "colab_type": "text",
    "id": "oiVXKeqqGIOl"
   },
   "source": [
    "There are two ways of accessing the data in the middle row of the array. \n",
    "Mixing integer indexing with slices yields an array of lower rank, while using only slices yields an array of the same rank as the original array:"
   ]
  },
  {
   "cell_type": "code",
   "execution_count": null,
   "metadata": {
    "colab": {
     "base_uri": "https://localhost:8080/",
     "height": 71
    },
    "colab_type": "code",
    "executionInfo": {
     "elapsed": 622,
     "status": "ok",
     "timestamp": 1569500056499,
     "user": {
      "displayName": "Jing Han",
      "photoUrl": "",
      "userId": "10643671355789923483"
     },
     "user_tz": -120
    },
    "id": "zYzAYzZ8HWho",
    "outputId": "63ed22fc-e11a-4c2e-ff35-5c5ec2f46f05"
   },
   "outputs": [],
   "source": [
    "row_r1 = a[1, :]    # Rank 1 view of the second row of a  \n",
    "row_r2 = a[1:2, :]  # Rank 2 view of the second row of a\n",
    "row_r3 = a[[1], :]  # Rank 2 view of the second row of a\n",
    "print(row_r1, row_r1.shape)\n",
    "#print(row_r2, row_r2.shape)\n",
    "#print(row_r3, row_r3.shape)"
   ]
  },
  {
   "cell_type": "markdown",
   "metadata": {},
   "source": [
    "We can make the same distinction when accessing columns of an array:\n"
   ]
  },
  {
   "cell_type": "code",
   "execution_count": null,
   "metadata": {
    "colab": {
     "base_uri": "https://localhost:8080/",
     "height": 89
    },
    "colab_type": "code",
    "executionInfo": {
     "elapsed": 517,
     "status": "ok",
     "timestamp": 1569500101417,
     "user": {
      "displayName": "Jing Han",
      "photoUrl": "",
      "userId": "10643671355789923483"
     },
     "user_tz": -120
    },
    "id": "ywiqrsdtHnC2",
    "outputId": "37913933-ee72-4f70-de02-e0976e871868"
   },
   "outputs": [],
   "source": [
    "col_r1 = a[:, 1]\n",
    "col_r2 = a[:, 1:2]\n",
    "print(col_r1, col_r1.shape)\n",
    "print(col_r2, col_r2.shape)"
   ]
  },
  {
   "cell_type": "markdown",
   "metadata": {
    "colab_type": "text",
    "id": "n6DIWNAsIWNa"
   },
   "source": [
    "Integer array indexing: When you index into numpy arrays using slicing, the resulting array view will always be a subarray of the original array. In contrast, integer array indexing allows you to construct arbitrary arrays using the data from another array. Here is an example:"
   ]
  },
  {
   "cell_type": "code",
   "execution_count": null,
   "metadata": {
    "colab": {
     "base_uri": "https://localhost:8080/",
     "height": 53
    },
    "colab_type": "code",
    "executionInfo": {
     "elapsed": 524,
     "status": "ok",
     "timestamp": 1569500119464,
     "user": {
      "displayName": "Jing Han",
      "photoUrl": "",
      "userId": "10643671355789923483"
     },
     "user_tz": -120
    },
    "id": "bq-T3PWwIr8E",
    "outputId": "13acd2a5-a089-48f2-9d0c-17020b9df490"
   },
   "outputs": [],
   "source": [
    "a = np.array([[1,2], [3, 4], [5, 6]])\n",
    "\n",
    "# An example of integer array indexing.\n",
    "# The returned array will have shape (3,) and \n",
    "print(a[[0, 1, 2], [0, 1, 0]])\n",
    "\n",
    "# The above example of integer array indexing is equivalent to this:\n",
    "print(np.array([a[0, 0], a[1, 1], a[2, 0]]))"
   ]
  },
  {
   "cell_type": "markdown",
   "metadata": {
    "colab_type": "text",
    "id": "W19aK-E5I2kt"
   },
   "source": [
    "Boolean array indexing: Boolean array indexing lets you pick out arbitrary elements of an array. Frequently this type of indexing is used to select the elements of an array that satisfy some condition. Here is an example:"
   ]
  },
  {
   "cell_type": "code",
   "execution_count": null,
   "metadata": {
    "colab": {
     "base_uri": "https://localhost:8080/",
     "height": 71
    },
    "colab_type": "code",
    "executionInfo": {
     "elapsed": 642,
     "status": "ok",
     "timestamp": 1569500146102,
     "user": {
      "displayName": "Jing Han",
      "photoUrl": "",
      "userId": "10643671355789923483"
     },
     "user_tz": -120
    },
    "id": "FzjT7IvGJOiw",
    "outputId": "6b3fe4f3-4623-44d9-9d66-f29894c8ebb8"
   },
   "outputs": [],
   "source": [
    "a = np.array([[1,2], [3, 4], [5, 6]])\n",
    "b = np.array([[1,2], [4, 4], [5, 5]])\n",
    "bool_idx = (a == b)  # Find the elements of a that equals to the corresponding elements of b;\n",
    "                    # this returns a numpy array of Booleans of the same\n",
    "                    # shape as a, where each slot of bool_idx tells\n",
    "                    # whether that element of a is == b.\n",
    "\n",
    "print(bool_idx)"
   ]
  },
  {
   "cell_type": "markdown",
   "metadata": {},
   "source": [
    "We use boolean array indexing to construct a rank 1 array consisting of the elements of a corresponding to the True values of bool_idx\n"
   ]
  },
  {
   "cell_type": "code",
   "execution_count": null,
   "metadata": {
    "colab": {
     "base_uri": "https://localhost:8080/",
     "height": 53
    },
    "colab_type": "code",
    "executionInfo": {
     "elapsed": 509,
     "status": "ok",
     "timestamp": 1569500161482,
     "user": {
      "displayName": "Jing Han",
      "photoUrl": "",
      "userId": "10643671355789923483"
     },
     "user_tz": -120
    },
    "id": "X9rFphHtJyI8",
    "outputId": "2a05091d-b27f-41ce-cd24-ec56f71671b1"
   },
   "outputs": [],
   "source": [
    "print(a[bool_idx])"
   ]
  },
  {
   "cell_type": "markdown",
   "metadata": {},
   "source": [
    "We can do all of the above in a single concise statement:\n"
   ]
  },
  {
   "cell_type": "code",
   "execution_count": null,
   "metadata": {},
   "outputs": [],
   "source": [
    "print(a[a == b])\n",
    "print(a)\n",
    "print(b)"
   ]
  },
  {
   "cell_type": "markdown",
   "metadata": {
    "colab_type": "text",
    "id": "67vn7bGgKFUd"
   },
   "source": [
    "### Array math\n",
    "basic mathematic functions operate \"element-wise\" on arrays, and are available both as operator overloads and as functions in the numpy module:"
   ]
  },
  {
   "cell_type": "code",
   "execution_count": null,
   "metadata": {
    "colab": {
     "base_uri": "https://localhost:8080/",
     "height": 89
    },
    "colab_type": "code",
    "executionInfo": {
     "elapsed": 508,
     "status": "ok",
     "timestamp": 1569500172729,
     "user": {
      "displayName": "Jing Han",
      "photoUrl": "",
      "userId": "10643671355789923483"
     },
     "user_tz": -120
    },
    "id": "_9P23vyjKZL2",
    "outputId": "18557c45-864b-4991-a571-d4c30a121be5"
   },
   "outputs": [],
   "source": [
    "x = np.array([[1,2],[3,4]], dtype=np.float64) # force a particular datatype\n",
    "y = np.array([[5,6],[7,8]], dtype=np.float64)\n",
    "\n",
    "# Elementwise sum; both produce the array\n",
    "print(x + y)\n",
    "print(np.add(x, y))"
   ]
  },
  {
   "cell_type": "code",
   "execution_count": null,
   "metadata": {
    "colab": {
     "base_uri": "https://localhost:8080/",
     "height": 89
    },
    "colab_type": "code",
    "executionInfo": {
     "elapsed": 560,
     "status": "ok",
     "timestamp": 1569500180406,
     "user": {
      "displayName": "Jing Han",
      "photoUrl": "",
      "userId": "10643671355789923483"
     },
     "user_tz": -120
    },
    "id": "RLjwYbjjKnrQ",
    "outputId": "bfc6d8a9-d37b-44a1-92db-c8099ac3da0a"
   },
   "outputs": [],
   "source": [
    "# Elementwise difference; both produce the array\n",
    "print(x - y)\n",
    "print(np.subtract(x, y))\n"
   ]
  },
  {
   "cell_type": "code",
   "execution_count": null,
   "metadata": {
    "colab": {
     "base_uri": "https://localhost:8080/",
     "height": 89
    },
    "colab_type": "code",
    "executionInfo": {
     "elapsed": 514,
     "status": "ok",
     "timestamp": 1569500186976,
     "user": {
      "displayName": "Jing Han",
      "photoUrl": "",
      "userId": "10643671355789923483"
     },
     "user_tz": -120
    },
    "id": "dwWtCtObKoJA",
    "outputId": "f340e712-8b98-409f-dec7-61f14f90ce81"
   },
   "outputs": [],
   "source": [
    "# Elementwise product; both produce the array\n",
    "print(x * y)\n",
    "print(np.multiply(x, y))"
   ]
  },
  {
   "cell_type": "code",
   "execution_count": null,
   "metadata": {
    "colab": {
     "base_uri": "https://localhost:8080/",
     "height": 89
    },
    "colab_type": "code",
    "executionInfo": {
     "elapsed": 623,
     "status": "ok",
     "timestamp": 1569500191740,
     "user": {
      "displayName": "Jing Han",
      "photoUrl": "",
      "userId": "10643671355789923483"
     },
     "user_tz": -120
    },
    "id": "hlLUXGuNKofA",
    "outputId": "9b83dc4e-452c-462a-d914-dc2f974ae2d6"
   },
   "outputs": [],
   "source": [
    "# Elementwise division; both produce the array\n",
    "print(x / y)\n",
    "print(np.divide(x, y))"
   ]
  },
  {
   "cell_type": "code",
   "execution_count": null,
   "metadata": {
    "colab": {
     "base_uri": "https://localhost:8080/",
     "height": 53
    },
    "colab_type": "code",
    "executionInfo": {
     "elapsed": 625,
     "status": "ok",
     "timestamp": 1569500195606,
     "user": {
      "displayName": "Jing Han",
      "photoUrl": "",
      "userId": "10643671355789923483"
     },
     "user_tz": -120
    },
    "id": "Vb7tbSajKo34",
    "outputId": "3df82e7d-2144-477b-ab93-ba674128c31d"
   },
   "outputs": [],
   "source": [
    "# Elementwise square root; produces the array\n",
    "print(np.sqrt(x))"
   ]
  },
  {
   "cell_type": "markdown",
   "metadata": {
    "colab_type": "text",
    "id": "TJTmQ-mmK_46"
   },
   "source": [
    " dot function is utilised to compute inner products of vectors, to multiply a vector by a matrix, and to multiply matrices. dot is available both as a function in the numpy module and as an instance method of array objects:\n",
    " "
   ]
  },
  {
   "cell_type": "code",
   "execution_count": null,
   "metadata": {
    "colab": {
     "base_uri": "https://localhost:8080/",
     "height": 53
    },
    "colab_type": "code",
    "executionInfo": {
     "elapsed": 619,
     "status": "ok",
     "timestamp": 1569500199998,
     "user": {
      "displayName": "Jing Han",
      "photoUrl": "",
      "userId": "10643671355789923483"
     },
     "user_tz": -120
    },
    "id": "rFJapGC9K0dJ",
    "outputId": "05577888-fec9-4f20-bf77-95cb7772b7a6"
   },
   "outputs": [],
   "source": [
    "v = np.array([9,10])\n",
    "w = np.array([11, 12])\n",
    "\n",
    "# Inner product of vectors\n",
    "print(v.dot(w))\n",
    "print(np.dot(v, w))"
   ]
  },
  {
   "cell_type": "code",
   "execution_count": 127,
   "metadata": {
    "colab": {
     "base_uri": "https://localhost:8080/",
     "height": 89
    },
    "colab_type": "code",
    "executionInfo": {
     "elapsed": 553,
     "status": "ok",
     "timestamp": 1569500236492,
     "user": {
      "displayName": "Jing Han",
      "photoUrl": "",
      "userId": "10643671355789923483"
     },
     "user_tz": -120
    },
    "id": "2AKMHNi3K0y5",
    "outputId": "33dad76a-f32e-4bb8-c7a2-88237c8eca38"
   },
   "outputs": [
    {
     "name": "stdout",
     "output_type": "stream",
     "text": [
      "[[1. 2.]\n",
      " [3. 4.]] [ 9 10]\n",
      "[29. 67.]\n",
      "[29. 67.]\n"
     ]
    }
   ],
   "source": [
    "# Matrix / vector product; both produce the rank 1 array \n",
    "print(x, v)\n",
    "print(x.dot(v))\n",
    "print(np.dot(x, v))"
   ]
  },
  {
   "cell_type": "code",
   "execution_count": 128,
   "metadata": {
    "colab": {
     "base_uri": "https://localhost:8080/",
     "height": 89
    },
    "colab_type": "code",
    "executionInfo": {
     "elapsed": 575,
     "status": "ok",
     "timestamp": 1569500248470,
     "user": {
      "displayName": "Jing Han",
      "photoUrl": "",
      "userId": "10643671355789923483"
     },
     "user_tz": -120
    },
    "id": "2SqFZmoiLrxm",
    "outputId": "a6aefab1-2999-4ab0-dad1-c9dee23470a0"
   },
   "outputs": [
    {
     "name": "stdout",
     "output_type": "stream",
     "text": [
      "[[19. 22.]\n",
      " [43. 50.]]\n",
      "[[19. 22.]\n",
      " [43. 50.]]\n"
     ]
    }
   ],
   "source": [
    "# Matrix / matrix product; both produce the rank 2 array\n",
    "print(x.dot(y))\n",
    "print(np.dot(x, y))"
   ]
  },
  {
   "cell_type": "markdown",
   "metadata": {
    "colab_type": "text",
    "id": "zDq_DoxGLsEW"
   },
   "source": [
    "Numpy provides many useful functions for performing computations on arrays; one of the most useful is sum:"
   ]
  },
  {
   "cell_type": "code",
   "execution_count": 129,
   "metadata": {
    "colab": {
     "base_uri": "https://localhost:8080/",
     "height": 107
    },
    "colab_type": "code",
    "executionInfo": {
     "elapsed": 533,
     "status": "ok",
     "timestamp": 1569500341391,
     "user": {
      "displayName": "Jing Han",
      "photoUrl": "",
      "userId": "10643671355789923483"
     },
     "user_tz": -120
    },
    "id": "0buB3484L_sA",
    "outputId": "1179500a-ffc0-4e5e-f071-a391f3243c09"
   },
   "outputs": [
    {
     "name": "stdout",
     "output_type": "stream",
     "text": [
      "[[1. 2.]\n",
      " [3. 4.]]\n",
      "10.0\n",
      "[4. 6.]\n",
      "[3. 7.]\n"
     ]
    }
   ],
   "source": [
    "print(x)\n",
    "print(np.sum(x))  # Compute sum of all elements;\n",
    "print(np.sum(x, axis=0))  # Compute sum of each column;\n",
    "print(np.sum(x, axis=1))  # Compute sum of each row; "
   ]
  },
  {
   "cell_type": "markdown",
   "metadata": {
    "colab_type": "text",
    "id": "LV13csULY-SE"
   },
   "source": [
    "Another useful is mean:\n"
   ]
  },
  {
   "cell_type": "code",
   "execution_count": 130,
   "metadata": {
    "colab": {
     "base_uri": "https://localhost:8080/",
     "height": 107
    },
    "colab_type": "code",
    "executionInfo": {
     "elapsed": 571,
     "status": "ok",
     "timestamp": 1569500344394,
     "user": {
      "displayName": "Jing Han",
      "photoUrl": "",
      "userId": "10643671355789923483"
     },
     "user_tz": -120
    },
    "id": "eZLnV6nxY-sE",
    "outputId": "97f26a9a-61eb-4530-9a89-ecdbf52a4497"
   },
   "outputs": [
    {
     "name": "stdout",
     "output_type": "stream",
     "text": [
      "[[1. 2.]\n",
      " [3. 4.]]\n",
      "2.5\n",
      "[2. 3.]\n",
      "[1.5 3.5]\n"
     ]
    }
   ],
   "source": [
    "print(x)\n",
    "print(np.mean(x)) # compute the average of the flattened array\n",
    "print(np.mean(x, axis=0)) # compute the mean along the first axis\n",
    "print(np.mean(x, axis=1)) # compute the mean along the last axis"
   ]
  },
  {
   "cell_type": "markdown",
   "metadata": {
    "colab_type": "text",
    "id": "mp4Kd79JMqM8"
   },
   "source": [
    "You can find the full list of mathematical functions provided by numpy in the [documentation](http://docs.scipy.org/doc/numpy/reference/routines.math.html).\n",
    "\n",
    "### Transposing \n",
    "Apart from computing mathematical functions using arrays, we frequently need to reshape or otherwise manipulate data in arrays. The simplest example of this type of operation is transposing a matrix; to transpose a matrix, simply use the T attribute of an array object:"
   ]
  },
  {
   "cell_type": "code",
   "execution_count": 131,
   "metadata": {
    "colab": {
     "base_uri": "https://localhost:8080/",
     "height": 89
    },
    "colab_type": "code",
    "executionInfo": {
     "elapsed": 505,
     "status": "ok",
     "timestamp": 1569500356393,
     "user": {
      "displayName": "Jing Han",
      "photoUrl": "",
      "userId": "10643671355789923483"
     },
     "user_tz": -120
    },
    "id": "G1iAoCeAMuMM",
    "outputId": "b4d30567-14c1-44da-ce3f-4076db7830b1"
   },
   "outputs": [
    {
     "name": "stdout",
     "output_type": "stream",
     "text": [
      "[[1. 2.]\n",
      " [3. 4.]]\n",
      "[[1. 3.]\n",
      " [2. 4.]]\n"
     ]
    }
   ],
   "source": [
    "print(x)\n",
    "print(x.T)"
   ]
  },
  {
   "cell_type": "markdown",
   "metadata": {
    "colab_type": "text",
    "id": "N0AzvrLXOaAf"
   },
   "source": [
    "### Broadcasting\n",
    "Broadcasting is a powerful mechanism that allows numpy to work with arrays of different shapes when performing arithmetic operations. With real-world data, we frequently have arrays of different sizes, and we might want to use the smaller array multiple times to perform some operation on the larger array.\n",
    "\n",
    "For example, suppose that we want to add a constant vector to each row of a matrix. Numpy broadcasting allows us to perform this computation without creating multiple copies of the smaller array."
   ]
  },
  {
   "cell_type": "code",
   "execution_count": 132,
   "metadata": {
    "colab": {
     "base_uri": "https://localhost:8080/",
     "height": 89
    },
    "colab_type": "code",
    "executionInfo": {
     "elapsed": 571,
     "status": "ok",
     "timestamp": 1569500367344,
     "user": {
      "displayName": "Jing Han",
      "photoUrl": "",
      "userId": "10643671355789923483"
     },
     "user_tz": -120
    },
    "id": "-_aTuWhmOiCf",
    "outputId": "6d4acc7c-41a0-42d7-c8ed-71b342832863"
   },
   "outputs": [
    {
     "name": "stdout",
     "output_type": "stream",
     "text": [
      "[[ 2  2  4]\n",
      " [ 5  5  7]\n",
      " [ 8  8 10]\n",
      " [11 11 13]]\n"
     ]
    }
   ],
   "source": [
    "x = np.array([[1,2,3], [4,5,6], [7,8,9], [10, 11, 12]])\n",
    "v = np.array([1, 0, 1])\n",
    "y = x + v  # Add v to each row of x using broadcasting\n",
    "print(y)"
   ]
  },
  {
   "cell_type": "markdown",
   "metadata": {
    "colab_type": "text",
    "id": "DmZsvJGFSG3l"
   },
   "source": [
    "The line y = x + v works even though x has shape (4, 3) and v has shape (3,) due to broadcasting; this line works as if v actually had shape (4, 3), where each row was a copy of v, and the sum was performed elementwise.\n",
    "\n",
    "Broadcasting two arrays together follows these rules:\n",
    "\n",
    "1. If the arrays do not have the same rank, prepend the shape of the lower rank array with 1s until both shapes have the same length.\n",
    "2. The two arrays are said to be compatible in a dimension if they have the same size in the dimension, or if one of the arrays has size 1 in that dimension.\n",
    "3. The arrays can be broadcast together if they are compatible in all dimensions.\n",
    "4. After broadcasting, each array behaves as if it had shape equal to the elementwise maximum of shapes of the two input arrays.\n",
    "5. In any dimension where one array had size 1 and the other array had size greater than 1, the first array behaves as if it were copied along that dimension\n",
    "\n",
    "\n",
    "Here are some applications of broadcasting:"
   ]
  },
  {
   "cell_type": "code",
   "execution_count": 133,
   "metadata": {
    "colab": {
     "base_uri": "https://localhost:8080/",
     "height": 262
    },
    "colab_type": "code",
    "executionInfo": {
     "elapsed": 543,
     "status": "error",
     "timestamp": 1569501522715,
     "user": {
      "displayName": "Jing Han",
      "photoUrl": "",
      "userId": "10643671355789923483"
     },
     "user_tz": -120
    },
    "id": "4kxs1vtYSKJe",
    "outputId": "a12cb6b1-d77a-42d5-d57c-77477e2ea64e"
   },
   "outputs": [],
   "source": [
    "v = np.array([1,2,3])  # v has shape (3,)\n",
    "w = np.array([4,5])    # w has shape (2,)"
   ]
  },
  {
   "cell_type": "markdown",
   "metadata": {},
   "source": [
    "### Compute outer product of vectors\n",
    "To compute an outer product, we first reshape v to be a column vector of shape (3, 1); we can then broadcast it against w to yield an output of shape (3, 2), which is the outer product of v and w:"
   ]
  },
  {
   "cell_type": "code",
   "execution_count": 134,
   "metadata": {},
   "outputs": [
    {
     "name": "stdout",
     "output_type": "stream",
     "text": [
      "[[ 4  5]\n",
      " [ 8 10]\n",
      " [12 15]]\n"
     ]
    }
   ],
   "source": [
    "print(np.reshape(v, (3, 1)) * w)\n",
    "# print(v * w)"
   ]
  },
  {
   "cell_type": "markdown",
   "metadata": {},
   "source": [
    "Add a vector to each row of a matrix"
   ]
  },
  {
   "cell_type": "code",
   "execution_count": 135,
   "metadata": {
    "colab": {
     "base_uri": "https://localhost:8080/",
     "height": 89
    },
    "colab_type": "code",
    "executionInfo": {
     "elapsed": 523,
     "status": "ok",
     "timestamp": 1569500595770,
     "user": {
      "displayName": "Jing Han",
      "photoUrl": "",
      "userId": "10643671355789923483"
     },
     "user_tz": -120
    },
    "id": "ypQbv5ZwSKZm",
    "outputId": "0679e430-1a87-48a2-e302-eea99b8b2798"
   },
   "outputs": [
    {
     "name": "stdout",
     "output_type": "stream",
     "text": [
      "[[1 2 3]\n",
      " [4 5 6]] [1 2 3]\n"
     ]
    }
   ],
   "source": [
    "x = np.array([[1,2,3], [4,5,6]])\n",
    "print(x, v)"
   ]
  },
  {
   "cell_type": "markdown",
   "metadata": {},
   "source": [
    "x has shape (2, 3) and v has shape (3,) so they broadcast to (2, 3), giving the following matrix:"
   ]
  },
  {
   "cell_type": "code",
   "execution_count": 136,
   "metadata": {},
   "outputs": [
    {
     "name": "stdout",
     "output_type": "stream",
     "text": [
      "[[2 4 6]\n",
      " [5 7 9]]\n"
     ]
    }
   ],
   "source": [
    "print(x + v)"
   ]
  },
  {
   "cell_type": "markdown",
   "metadata": {},
   "source": [
    "Add a vector to each column of a matrix x has shape (2, 3) and w has shape (2,). If we transpose x then it has shape (3, 2) and can be broadcast against w to yield a result of shape (3, 2); transposing this result yields the final result of shape (2, 3) which is the matrix x with the vector w added to each column. Gives the following matrix:"
   ]
  },
  {
   "cell_type": "code",
   "execution_count": 137,
   "metadata": {
    "colab": {
     "base_uri": "https://localhost:8080/",
     "height": 89
    },
    "colab_type": "code",
    "executionInfo": {
     "elapsed": 515,
     "status": "ok",
     "timestamp": 1569500690965,
     "user": {
      "displayName": "Jing Han",
      "photoUrl": "",
      "userId": "10643671355789923483"
     },
     "user_tz": -120
    },
    "id": "gZYamxcrSKlu",
    "outputId": "a8da8bb1-f412-4996-99c2-2b4317273ec3"
   },
   "outputs": [
    {
     "name": "stdout",
     "output_type": "stream",
     "text": [
      "[[1 2 3]\n",
      " [4 5 6]] [4 5]\n",
      "[[ 5  6  7]\n",
      " [ 9 10 11]]\n"
     ]
    }
   ],
   "source": [
    "print(x, w)\n",
    "print((x.T + w).T)"
   ]
  },
  {
   "cell_type": "markdown",
   "metadata": {},
   "source": [
    "Another solution is to reshape w to be a row vector of shape (2, 1); we can then broadcast it directly against x to produce the same output."
   ]
  },
  {
   "cell_type": "code",
   "execution_count": 139,
   "metadata": {
    "colab": {
     "base_uri": "https://localhost:8080/",
     "height": 53
    },
    "colab_type": "code",
    "executionInfo": {
     "elapsed": 518,
     "status": "ok",
     "timestamp": 1569500693027,
     "user": {
      "displayName": "Jing Han",
      "photoUrl": "",
      "userId": "10643671355789923483"
     },
     "user_tz": -120
    },
    "id": "MaZ1hp16SK3u",
    "outputId": "437761a4-4e82-47fa-a83d-a229c477a1bb"
   },
   "outputs": [
    {
     "name": "stdout",
     "output_type": "stream",
     "text": [
      "[[ 5  6  7]\n",
      " [ 9 10 11]]\n"
     ]
    }
   ],
   "source": [
    "print(x + np.reshape(w, (2, 1)))"
   ]
  },
  {
   "cell_type": "markdown",
   "metadata": {
    "colab": {
     "base_uri": "https://localhost:8080/",
     "height": 53
    },
    "colab_type": "code",
    "executionInfo": {
     "elapsed": 539,
     "status": "ok",
     "timestamp": 1569500704839,
     "user": {
      "displayName": "Jing Han",
      "photoUrl": "",
      "userId": "10643671355789923483"
     },
     "user_tz": -120
    },
    "id": "NsG68eVrUWqj",
    "outputId": "1318353e-f549-449a-f828-00eecb8300e4"
   },
   "source": [
    "Multiply a matrix by a constant: x has shape (2, 3). Numpy treats scalars as arrays of shape (); these can be broadcast together to shape (2, 3), producing the following array:"
   ]
  },
  {
   "cell_type": "code",
   "execution_count": 140,
   "metadata": {},
   "outputs": [
    {
     "name": "stdout",
     "output_type": "stream",
     "text": [
      "[[ 2  4  6]\n",
      " [ 8 10 12]]\n"
     ]
    }
   ],
   "source": [
    "print(x * 2)"
   ]
  },
  {
   "cell_type": "markdown",
   "metadata": {
    "colab_type": "text",
    "id": "WJxuuLDEOV4X"
   },
   "source": [
    "### Sorting"
   ]
  },
  {
   "cell_type": "markdown",
   "metadata": {
    "colab_type": "text",
    "id": "q5cMZxF6Ody3"
   },
   "source": [
    "numpy provides functions to sort an array on demanded axis, for example"
   ]
  },
  {
   "cell_type": "code",
   "execution_count": 141,
   "metadata": {
    "colab": {
     "base_uri": "https://localhost:8080/",
     "height": 53
    },
    "colab_type": "code",
    "executionInfo": {
     "elapsed": 645,
     "status": "ok",
     "timestamp": 1569500717790,
     "user": {
      "displayName": "Jing Han",
      "photoUrl": "",
      "userId": "10643671355789923483"
     },
     "user_tz": -120
    },
    "id": "tMWQZgJpVMsf",
    "outputId": "865d61bd-4eb9-4a27-e220-904b6ef028ad"
   },
   "outputs": [
    {
     "name": "stdout",
     "output_type": "stream",
     "text": [
      "[[0 1 4]\n",
      " [1 3 5]]\n"
     ]
    }
   ],
   "source": [
    "a = np.array([[1, 4, 0], [3, 1, 5]])\n",
    "print(np.sort(a)) # sort along the last axis, i.e., axis=1"
   ]
  },
  {
   "cell_type": "code",
   "execution_count": 142,
   "metadata": {
    "colab": {
     "base_uri": "https://localhost:8080/",
     "height": 35
    },
    "colab_type": "code",
    "executionInfo": {
     "elapsed": 533,
     "status": "ok",
     "timestamp": 1569500744529,
     "user": {
      "displayName": "Jing Han",
      "photoUrl": "",
      "userId": "10643671355789923483"
     },
     "user_tz": -120
    },
    "id": "7xnUaIDBVM7X",
    "outputId": "0971e644-a9b2-43b2-e5f4-4e200f4deb14"
   },
   "outputs": [
    {
     "name": "stdout",
     "output_type": "stream",
     "text": [
      "[0 1 1 3 4 5]\n"
     ]
    }
   ],
   "source": [
    "print(np.sort(a, axis = None)) # array is flattend before sorting"
   ]
  },
  {
   "cell_type": "code",
   "execution_count": 143,
   "metadata": {
    "colab": {
     "base_uri": "https://localhost:8080/",
     "height": 53
    },
    "colab_type": "code",
    "executionInfo": {
     "elapsed": 624,
     "status": "ok",
     "timestamp": 1569500753668,
     "user": {
      "displayName": "Jing Han",
      "photoUrl": "",
      "userId": "10643671355789923483"
     },
     "user_tz": -120
    },
    "id": "MdEH8XVTVNI_",
    "outputId": "41c1d0e9-1c95-44d0-d73a-641bc6889fa6"
   },
   "outputs": [
    {
     "name": "stdout",
     "output_type": "stream",
     "text": [
      "[[1 1 0]\n",
      " [3 4 5]]\n"
     ]
    }
   ],
   "source": [
    "print(np.sort(a, axis = 0)) # sort along the first axis"
   ]
  },
  {
   "cell_type": "markdown",
   "metadata": {
    "colab_type": "text",
    "id": "o3qsPm-FVNU_"
   },
   "source": [
    "to figure out the index data, i.e., the sorted order, argsort can be applied, which gives the indices that would sort an array.\n",
    "for a rank 1 array:"
   ]
  },
  {
   "cell_type": "code",
   "execution_count": 144,
   "metadata": {
    "colab": {
     "base_uri": "https://localhost:8080/",
     "height": 35
    },
    "colab_type": "code",
    "executionInfo": {
     "elapsed": 618,
     "status": "ok",
     "timestamp": 1569500764925,
     "user": {
      "displayName": "Jing Han",
      "photoUrl": "",
      "userId": "10643671355789923483"
     },
     "user_tz": -120
    },
    "id": "lC-jqed_VNiH",
    "outputId": "641a20a9-cc7e-49c2-814c-bce1ae2add8d"
   },
   "outputs": [
    {
     "name": "stdout",
     "output_type": "stream",
     "text": [
      "[1 2 0]\n"
     ]
    }
   ],
   "source": [
    "x = np.array([3, 1, 2])\n",
    "print(np.argsort(x))"
   ]
  },
  {
   "cell_type": "markdown",
   "metadata": {
    "colab_type": "text",
    "id": "wpG0wjPCVNxI"
   },
   "source": [
    "for a rank 2 array:"
   ]
  },
  {
   "cell_type": "code",
   "execution_count": 145,
   "metadata": {
    "colab": {
     "base_uri": "https://localhost:8080/",
     "height": 89
    },
    "colab_type": "code",
    "executionInfo": {
     "elapsed": 511,
     "status": "ok",
     "timestamp": 1569500779390,
     "user": {
      "displayName": "Jing Han",
      "photoUrl": "",
      "userId": "10643671355789923483"
     },
     "user_tz": -120
    },
    "id": "ilLTOe7dXEJ6",
    "outputId": "5a10d99c-85c2-43d9-90dd-4f61cb1b783b"
   },
   "outputs": [
    {
     "name": "stdout",
     "output_type": "stream",
     "text": [
      "[[0 1]\n",
      " [1 0]]\n",
      "[[0 1]\n",
      " [0 1]]\n"
     ]
    }
   ],
   "source": [
    "x = np.array([[0, 3], [2, 2]])\n",
    "print(np.argsort(x, axis = 0)) # sorts along the first axis\n",
    "print(np.argsort(x, axis = 1)) # sort along the last axis"
   ]
  },
  {
   "cell_type": "markdown",
   "metadata": {
    "colab_type": "text",
    "id": "n26WdJ5FQl8M"
   },
   "source": [
    "\n",
    "This brief overview has touched on many of the important things that you need to know about numpy, but is far from complete. Check out the [numpy reference](http://docs.scipy.org/doc/numpy/reference/) to find out much more about numpy."
   ]
  },
  {
   "cell_type": "markdown",
   "metadata": {},
   "source": [
    "## Matplotlib \n",
    "\n",
    "Visualise your data and model performance is an important aspect of Deep Learning. Matplotlib is a popluar plotting library, which provides a plotting system similar to that of MATLAB."
   ]
  },
  {
   "cell_type": "code",
   "execution_count": 156,
   "metadata": {},
   "outputs": [],
   "source": [
    "import numpy as np\n",
    "import matplotlib.pyplot as plt\n",
    "\n",
    "x = np.arange(0, 3 * np.pi, 0.1)\n",
    "y = np.sin(x)"
   ]
  },
  {
   "cell_type": "markdown",
   "metadata": {},
   "source": [
    "You can plot a line graph"
   ]
  },
  {
   "cell_type": "code",
   "execution_count": 157,
   "metadata": {},
   "outputs": [
    {
     "data": {
      "image/png": "[encoded data removed]",
      "text/plain": [
       "<Figure size 432x288 with 1 Axes>"
      ]
     },
     "metadata": {
      "needs_background": "light"
     },
     "output_type": "display_data"
    }
   ],
   "source": [
    "plt.plot(x, y)\n",
    "plt.show()  "
   ]
  },
  {
   "cell_type": "markdown",
   "metadata": {},
   "source": [
    "You can plot a scatter graph"
   ]
  },
  {
   "cell_type": "code",
   "execution_count": 168,
   "metadata": {},
   "outputs": [
    {
     "data": {
      "image/png": "[encoded data removed]",
      "text/plain": [
       "<Figure size 432x288 with 1 Axes>"
      ]
     },
     "metadata": {
      "needs_background": "light"
     },
     "output_type": "display_data"
    }
   ],
   "source": [
    "y_sin = np.sin(x)\n",
    "y_cos = np.cos(x)\n",
    "plt.scatter(x, y_sin)\n",
    "plt.show()"
   ]
  },
  {
   "cell_type": "markdown",
   "metadata": {},
   "source": [
    "You can plot multiple lines"
   ]
  },
  {
   "cell_type": "code",
   "execution_count": 169,
   "metadata": {},
   "outputs": [
    {
     "data": {
      "image/png": "[encoded data removed]",
      "text/plain": [
       "<Figure size 432x288 with 1 Axes>"
      ]
     },
     "metadata": {
      "needs_background": "light"
     },
     "output_type": "display_data"
    }
   ],
   "source": [
    "plt.plot(x, y_sin)\n",
    "plt.plot(x, y_cos)\n",
    "plt.show()"
   ]
  },
  {
   "cell_type": "markdown",
   "metadata": {},
   "source": [
    "You can also customise color, axis names, and title, amon"
   ]
  },
  {
   "cell_type": "code",
   "execution_count": null,
   "metadata": {},
   "outputs": [],
   "source": []
  },
  {
   "cell_type": "markdown",
   "metadata": {
    "colab_type": "text",
    "id": "YXSe8QOC-o8d"
   },
   "source": [
    "### Excercise Tutorial 1 \n",
    "\n",
    "Please download the excercise sheet (EX_1-DL_T_1.ipynb), and complete the questions provided. \n"
   ]
  },
  {
   "cell_type": "code",
   "execution_count": 0,
   "metadata": {
    "colab": {},
    "colab_type": "code",
    "id": "E6IzijZI_x9C"
   },
   "outputs": [],
   "source": []
  }
 ],
 "metadata": {
  "colab": {
   "collapsed_sections": [],
   "name": "D1_monrning_IntroduceNumpy_python3.ipynb",
   "provenance": []
  },
  "kernelspec": {
   "display_name": "Python 3",
   "language": "python",
   "name": "python3"
  },
  "language_info": {
   "codemirror_mode": {
    "name": "ipython",
    "version": 3
   },
   "file_extension": ".py",
   "mimetype": "text/x-python",
   "name": "python",
   "nbconvert_exporter": "python",
   "pygments_lexer": "ipython3",
   "version": "3.7.4"
  }
 },
 "nbformat": 4,
 "nbformat_minor": 1
}
