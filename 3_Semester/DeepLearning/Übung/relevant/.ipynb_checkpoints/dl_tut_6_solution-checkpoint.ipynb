{
 "cells": [
  {
   "cell_type": "code",
   "execution_count": 1,
   "metadata": {
    "colab": {
     "base_uri": "https://localhost:8080/",
     "height": 81
    },
    "colab_type": "code",
    "id": "Qu7q0SK01E3y",
    "outputId": "9a20f45a-3107-47f0-9520-6d36cef84587"
   },
   "outputs": [
    {
     "name": "stderr",
     "output_type": "stream",
     "text": [
      "Using TensorFlow backend.\n"
     ]
    },
    {
     "data": {
      "text/html": [
       "<p style=\"color: red;\">\n",
       "The default version of TensorFlow in Colab will soon switch to TensorFlow 2.x.<br>\n",
       "We recommend you <a href=\"https://www.tensorflow.org/guide/migrate\" target=\"_blank\">upgrade</a> now \n",
       "or ensure your notebook will continue to use TensorFlow 1.x via the <code>%tensorflow_version 1.x</code> magic:\n",
       "<a href=\"https://colab.research.google.com/notebooks/tensorflow_version.ipynb\" target=\"_blank\">more info</a>.</p>\n"
      ],
      "text/plain": [
       "<IPython.core.display.HTML object>"
      ]
     },
     "metadata": {
      "tags": []
     },
     "output_type": "display_data"
    }
   ],
   "source": [
    "import keras\n",
    "from keras.models import Sequential\n",
    "from keras.layers import Dense, Activation, Flatten\n",
    "from keras.layers import Dropout, Conv2D, MaxPooling2D, BatchNormalization\n",
    "from keras.optimizers import Adam, SGD, RMSprop\n",
    "\n",
    "import numpy as np\n",
    "import tensorflow as tf\n",
    "\n",
    "tf.get_logger().setLevel('ERROR')"
   ]
  },
  {
   "cell_type": "code",
   "execution_count": 0,
   "metadata": {
    "colab": {},
    "colab_type": "code",
    "id": "MungxdHWzL3Y"
   },
   "outputs": [],
   "source": [
    "num_classes = 10"
   ]
  },
  {
   "cell_type": "code",
   "execution_count": 3,
   "metadata": {
    "colab": {
     "base_uri": "https://localhost:8080/",
     "height": 69
    },
    "colab_type": "code",
    "id": "uOM1I_Ng2XM7",
    "outputId": "1690ff00-0437-498c-9060-b33709256766"
   },
   "outputs": [
    {
     "name": "stdout",
     "output_type": "stream",
     "text": [
      "x_train shape: (60000, 28, 28, 1)\n",
      "60000 train samples\n",
      "10000 test samples\n"
     ]
    }
   ],
   "source": [
    "from keras.datasets import mnist\n",
    "(x_train, y_train), (x_test, y_test) = mnist.load_data()\n",
    "x_train = x_train.astype(np.float32) / 255\n",
    "x_test = x_test.astype(np.float32) / 255\n",
    "\n",
    "x_train = np.expand_dims(x_train, -1)\n",
    "x_test = np.expand_dims(x_test, -1)\n",
    "\n",
    "y_train = keras.utils.to_categorical(y_train, 10)\n",
    "y_test = keras.utils.to_categorical(y_test, 10)\n",
    "\n",
    "print('x_train shape:', x_train.shape)\n",
    "print(x_train.shape[0], 'train samples')\n",
    "print(x_test.shape[0], 'test samples')"
   ]
  },
  {
   "cell_type": "markdown",
   "metadata": {
    "colab_type": "text",
    "id": "uu-xn6ibDMfY"
   },
   "source": [
    "Exercise 2"
   ]
  },
  {
   "cell_type": "code",
   "execution_count": 0,
   "metadata": {
    "colab": {},
    "colab_type": "code",
    "id": "xSLpykL3CttQ"
   },
   "outputs": [],
   "source": [
    "model = Sequential()\n",
    "model.add(Flatten(input_shape=(28,28,1)))\n",
    "model.add(Dense(512))\n",
    "model.add(Activation('relu'))                            \n",
    "model.add(Dropout(0.2))\n",
    "\n",
    "model.add(Dense(512))\n",
    "model.add(Activation('relu'))\n",
    "model.add(Dropout(0.2))\n",
    "\n",
    "model.add(Dense(10))\n",
    "model.add(Activation('softmax'))\n",
    "\n",
    "model.compile(Adam(lr=0.001), loss=keras.losses.categorical_crossentropy, metrics=['accuracy'])"
   ]
  },
  {
   "cell_type": "code",
   "execution_count": 5,
   "metadata": {
    "colab": {
     "base_uri": "https://localhost:8080/",
     "height": 243
    },
    "colab_type": "code",
    "id": "xat4HZFC2_X-",
    "outputId": "d903883e-a87f-4234-bf29-424b97233cac"
   },
   "outputs": [
    {
     "name": "stdout",
     "output_type": "stream",
     "text": [
      "Train on 40199 samples, validate on 19801 samples\n",
      "Epoch 1/5\n",
      "40199/40199 [==============================] - 4s 105us/step - loss: 0.2615 - acc: 0.9201 - val_loss: 0.1388 - val_acc: 0.9580\n",
      "Epoch 2/5\n",
      "40199/40199 [==============================] - 3s 71us/step - loss: 0.1133 - acc: 0.9651 - val_loss: 0.1050 - val_acc: 0.9691\n",
      "Epoch 3/5\n",
      "40199/40199 [==============================] - 3s 70us/step - loss: 0.0798 - acc: 0.9743 - val_loss: 0.1008 - val_acc: 0.9687\n",
      "Epoch 4/5\n",
      "40199/40199 [==============================] - 3s 72us/step - loss: 0.0607 - acc: 0.9808 - val_loss: 0.1013 - val_acc: 0.9722\n",
      "Epoch 5/5\n",
      "40199/40199 [==============================] - 3s 70us/step - loss: 0.0532 - acc: 0.9831 - val_loss: 0.0963 - val_acc: 0.9725\n",
      "Test loss: 0.08604762646773888\n",
      "Test accuracy: 0.9732\n"
     ]
    }
   ],
   "source": [
    "history = model.fit(x_train, y_train,\n",
    "          batch_size=64,\n",
    "          epochs=5,\n",
    "          verbose=1,\n",
    "          validation_split=0.33)\n",
    "score = model.evaluate(x_test, y_test, verbose=0)\n",
    "print('Test loss:', score[0])\n",
    "print('Test accuracy:', score[1])"
   ]
  },
  {
   "cell_type": "code",
   "execution_count": 6,
   "metadata": {
    "colab": {
     "base_uri": "https://localhost:8080/",
     "height": 295
    },
    "colab_type": "code",
    "id": "ApPkGrvGC_78",
    "outputId": "52a99e2a-7679-4345-cfde-8b414d07b753"
   },
   "outputs": [
    {
     "data": {
      "image/png": "[encoded data removed]",
      "text/plain": [
       "<Figure size 432x288 with 1 Axes>"
      ]
     },
     "metadata": {
      "tags": []
     },
     "output_type": "display_data"
    }
   ],
   "source": [
    "import matplotlib.pyplot as plt\n",
    "\n",
    "plt.plot(history.history['acc'], label='training accuracy')\n",
    "plt.plot(history.history['val_acc'], label='validation accuracy')\n",
    "plt.title('Accuracy')\n",
    "plt.xlabel('epochs')\n",
    "plt.ylabel('accuracy')\n",
    "plt.legend()\n",
    "plt.show()"
   ]
  },
  {
   "cell_type": "markdown",
   "metadata": {
    "colab_type": "text",
    "id": "wpeNUq63DKUC"
   },
   "source": [
    "Exercise 3"
   ]
  },
  {
   "cell_type": "code",
   "execution_count": 0,
   "metadata": {
    "colab": {},
    "colab_type": "code",
    "id": "y6DTbJOi6Q7d"
   },
   "outputs": [],
   "source": [
    "model2 = Sequential()\n",
    "model2.add(Conv2D(32, (3, 3), padding='same',\n",
    "                 input_shape=x_train.shape[1:]))\n",
    "model2.add(Activation('relu'))\n",
    "model2.add(Dropout(0.2))\n",
    "model2.add(Conv2D(64, (3, 3)))\n",
    "model2.add(Activation('relu'))\n",
    "model2.add(MaxPooling2D(pool_size=(2, 2)))\n",
    "\n",
    "model2.add(Conv2D(128, (3, 3), padding='same'))\n",
    "model2.add(Activation('relu'))\n",
    "model2.add(Dropout(0.2))\n",
    "model2.add(Conv2D(128, (3, 3)))\n",
    "model2.add(Activation('relu'))\n",
    "model2.add(MaxPooling2D(pool_size=(2, 2)))\n",
    "\n",
    "model2.add(Flatten())\n",
    "model2.add(Dense(10))\n",
    "model2.add(Activation('softmax'))\n",
    "\n",
    "model2.compile(loss=keras.losses.categorical_crossentropy,\n",
    "              optimizer=keras.optimizers.Adam(),\n",
    "              metrics=['accuracy'])\n"
   ]
  },
  {
   "cell_type": "code",
   "execution_count": 8,
   "metadata": {
    "colab": {
     "base_uri": "https://localhost:8080/",
     "height": 1000
    },
    "colab_type": "code",
    "id": "Np9QFBVsDMdN",
    "outputId": "2620e879-a0af-4e08-813b-ed92a57ec15c"
   },
   "outputs": [
    {
     "name": "stdout",
     "output_type": "stream",
     "text": [
      "Model: \"sequential_1\"\n",
      "_________________________________________________________________\n",
      "Layer (type)                 Output Shape              Param #   \n",
      "=================================================================\n",
      "flatten_1 (Flatten)          (None, 784)               0         \n",
      "_________________________________________________________________\n",
      "dense_1 (Dense)              (None, 512)               401920    \n",
      "_________________________________________________________________\n",
      "activation_1 (Activation)    (None, 512)               0         \n",
      "_________________________________________________________________\n",
      "dropout_1 (Dropout)          (None, 512)               0         \n",
      "_________________________________________________________________\n",
      "dense_2 (Dense)              (None, 512)               262656    \n",
      "_________________________________________________________________\n",
      "activation_2 (Activation)    (None, 512)               0         \n",
      "_________________________________________________________________\n",
      "dropout_2 (Dropout)          (None, 512)               0         \n",
      "_________________________________________________________________\n",
      "dense_3 (Dense)              (None, 10)                5130      \n",
      "_________________________________________________________________\n",
      "activation_3 (Activation)    (None, 10)                0         \n",
      "=================================================================\n",
      "Total params: 669,706\n",
      "Trainable params: 669,706\n",
      "Non-trainable params: 0\n",
      "_________________________________________________________________\n",
      "Model: \"sequential_2\"\n",
      "_________________________________________________________________\n",
      "Layer (type)                 Output Shape              Param #   \n",
      "=================================================================\n",
      "conv2d_1 (Conv2D)            (None, 28, 28, 32)        320       \n",
      "_________________________________________________________________\n",
      "activation_4 (Activation)    (None, 28, 28, 32)        0         \n",
      "_________________________________________________________________\n",
      "dropout_3 (Dropout)          (None, 28, 28, 32)        0         \n",
      "_________________________________________________________________\n",
      "conv2d_2 (Conv2D)            (None, 26, 26, 64)        18496     \n",
      "_________________________________________________________________\n",
      "activation_5 (Activation)    (None, 26, 26, 64)        0         \n",
      "_________________________________________________________________\n",
      "max_pooling2d_1 (MaxPooling2 (None, 13, 13, 64)        0         \n",
      "_________________________________________________________________\n",
      "conv2d_3 (Conv2D)            (None, 13, 13, 128)       73856     \n",
      "_________________________________________________________________\n",
      "activation_6 (Activation)    (None, 13, 13, 128)       0         \n",
      "_________________________________________________________________\n",
      "dropout_4 (Dropout)          (None, 13, 13, 128)       0         \n",
      "_________________________________________________________________\n",
      "conv2d_4 (Conv2D)            (None, 11, 11, 128)       147584    \n",
      "_________________________________________________________________\n",
      "activation_7 (Activation)    (None, 11, 11, 128)       0         \n",
      "_________________________________________________________________\n",
      "max_pooling2d_2 (MaxPooling2 (None, 5, 5, 128)         0         \n",
      "_________________________________________________________________\n",
      "flatten_2 (Flatten)          (None, 3200)              0         \n",
      "_________________________________________________________________\n",
      "dense_4 (Dense)              (None, 10)                32010     \n",
      "_________________________________________________________________\n",
      "activation_8 (Activation)    (None, 10)                0         \n",
      "=================================================================\n",
      "Total params: 272,266\n",
      "Trainable params: 272,266\n",
      "Non-trainable params: 0\n",
      "_________________________________________________________________\n"
     ]
    }
   ],
   "source": [
    "model.summary()\n",
    "model2.summary()"
   ]
  },
  {
   "cell_type": "markdown",
   "metadata": {
    "colab_type": "text",
    "id": "HFjMsDoQCllw"
   },
   "source": []
  },
  {
   "cell_type": "code",
   "execution_count": 9,
   "metadata": {
    "colab": {
     "base_uri": "https://localhost:8080/",
     "height": 243
    },
    "colab_type": "code",
    "id": "JlVxSN_aEZaB",
    "outputId": "0c591b67-bc96-44a9-8cc5-59e256413f83"
   },
   "outputs": [
    {
     "name": "stdout",
     "output_type": "stream",
     "text": [
      "Train on 40199 samples, validate on 19801 samples\n",
      "Epoch 1/5\n",
      "40199/40199 [==============================] - 8s 187us/step - loss: 0.1674 - acc: 0.9489 - val_loss: 0.0710 - val_acc: 0.9786\n",
      "Epoch 2/5\n",
      "40199/40199 [==============================] - 6s 142us/step - loss: 0.0489 - acc: 0.9855 - val_loss: 0.0448 - val_acc: 0.9869\n",
      "Epoch 3/5\n",
      "40199/40199 [==============================] - 6s 142us/step - loss: 0.0357 - acc: 0.9886 - val_loss: 0.0492 - val_acc: 0.9844\n",
      "Epoch 4/5\n",
      "40199/40199 [==============================] - 6s 142us/step - loss: 0.0261 - acc: 0.9914 - val_loss: 0.0394 - val_acc: 0.9882\n",
      "Epoch 5/5\n",
      "40199/40199 [==============================] - 6s 143us/step - loss: 0.0204 - acc: 0.9932 - val_loss: 0.0600 - val_acc: 0.9834\n",
      "Test loss: 0.04129169438488316\n",
      "Test accuracy: 0.9856\n"
     ]
    }
   ],
   "source": [
    "history = model2.fit(x_train, y_train,\n",
    "          batch_size=64,\n",
    "          epochs=5,\n",
    "          verbose=1,\n",
    "          validation_split=0.33)\n",
    "score = model2.evaluate(x_test, y_test, verbose=0)\n",
    "print('Test loss:', score[0])\n",
    "print('Test accuracy:', score[1])"
   ]
  },
  {
   "cell_type": "code",
   "execution_count": 10,
   "metadata": {
    "colab": {
     "base_uri": "https://localhost:8080/",
     "height": 295
    },
    "colab_type": "code",
    "id": "Dc-QeEWODCOS",
    "outputId": "4e40db51-a319-4e10-ca9b-a8b2fdebc8ff"
   },
   "outputs": [
    {
     "data": {
      "image/png": "[encoded data removed]",
      "text/plain": [
       "<Figure size 432x288 with 1 Axes>"
      ]
     },
     "metadata": {
      "tags": []
     },
     "output_type": "display_data"
    }
   ],
   "source": [
    "plt.plot(history.history['acc'], label='training accuracy')\n",
    "plt.plot(history.history['val_acc'], label='validation accuracy')\n",
    "plt.title('Accuracy')\n",
    "plt.xlabel('epochs')\n",
    "plt.ylabel('accuracy')\n",
    "plt.legend()\n",
    "plt.show()"
   ]
  },
  {
   "cell_type": "markdown",
   "metadata": {
    "colab_type": "text",
    "id": "PcqU1MfjDQEB"
   },
   "source": [
    "### Exercise 4\n",
    "\n",
    "Calculation for Conv Layers: (Kernel_Width * Kernel_Height * Input_Channels + 1) * Number_Filters \\\n",
    "// + 1 is for biases\n",
    "\n",
    "Calculation for Dense Layers: Input_Dim * Output_Dim\n"
   ]
  },
  {
   "cell_type": "markdown",
   "metadata": {
    "colab_type": "text",
    "id": "HXfNj__GEu5O"
   },
   "source": [
    "### Exercise 5\n",
    "CNNs are better suited for large image data as the amount of parameters of conv layers does not depend on the spatial input dimensions (in contrast to dense layers)"
   ]
  },
  {
   "cell_type": "markdown",
   "metadata": {
    "colab_type": "text",
    "id": "kuEDsnf0E8ei"
   },
   "source": [
    "### Exercise 6\n",
    "\n",
    "Strided Convolutions: Stride defines the spatial step-size of the kernel of a convolutional layer. For a stride n > 1 (1 would be the default convolution) the kernel is only evaluated in every nth position thus resulting in a smaller spatial output dimension.\n",
    "\n",
    "Max Pooling: Returns the single largest value within its receptive field. For non- or not fully overlapping receptive fields (e.g. use of stride) and a pool size > 1x1 the output will be smaller than its input."
   ]
  },
  {
   "cell_type": "markdown",
   "metadata": {
    "colab_type": "text",
    "id": "TECSbtWEGvzV"
   },
   "source": [
    "CIFAR10"
   ]
  },
  {
   "cell_type": "code",
   "execution_count": 11,
   "metadata": {
    "colab": {
     "base_uri": "https://localhost:8080/",
     "height": 69
    },
    "colab_type": "code",
    "id": "LL0EJwJ1UinE",
    "outputId": "821139c2-fa3f-4517-8d4d-c23ee7121dfc"
   },
   "outputs": [
    {
     "name": "stdout",
     "output_type": "stream",
     "text": [
      "x_train shape: (50000, 32, 32, 3)\n",
      "50000 train samples\n",
      "10000 test samples\n"
     ]
    }
   ],
   "source": [
    "from keras.datasets import cifar10\n",
    "(x_train, y_train), (x_test, y_test) = cifar10.load_data()\n",
    "x_train = x_train.astype(np.float32) / 255\n",
    "x_test = x_test.astype(np.float32) / 255\n",
    "\n",
    "y_train = keras.utils.to_categorical(y_train, 10)\n",
    "y_test = keras.utils.to_categorical(y_test, 10)\n",
    "\n",
    "print('x_train shape:', x_train.shape)\n",
    "print(x_train.shape[0], 'train samples')\n",
    "print(x_test.shape[0], 'test samples')"
   ]
  },
  {
   "cell_type": "code",
   "execution_count": 0,
   "metadata": {
    "colab": {},
    "colab_type": "code",
    "id": "je-Hfmp9Ig3J"
   },
   "outputs": [],
   "source": [
    "model3 = Sequential()\n",
    "model3.add(Conv2D(input_shape=x_train[0,:,:,:].shape, filters=32, kernel_size=(3,3), padding=\"same\"))\n",
    "model3.add(BatchNormalization())\n",
    "model3.add(Activation('relu'))\n",
    "model3.add(Conv2D(filters=64, kernel_size=(3,3), padding=\"same\"))\n",
    "model3.add(BatchNormalization())\n",
    "model3.add(Activation('relu'))\n",
    "model3.add(MaxPooling2D(pool_size=(2, 2)))\n",
    "model3.add(Conv2D(filters=64, kernel_size=(3,3), padding=\"same\"))\n",
    "model3.add(BatchNormalization())\n",
    "model3.add(Activation('relu'))\n",
    "model3.add(Conv2D(filters=64, kernel_size=(3,3), padding=\"same\"))\n",
    "model3.add(BatchNormalization())\n",
    "model3.add(Activation('relu'))\n",
    "model3.add(Flatten())\n",
    "model3.add(Dropout(0.5))\n",
    "model3.add(Dense(128))\n",
    "model3.add(Activation('relu'))\n",
    "model3.add(Dense(num_classes, activation=\"softmax\"))\n",
    "model3.compile(loss='categorical_crossentropy', optimizer=Adam(lr=0.001), metrics=['accuracy'])"
   ]
  },
  {
   "cell_type": "code",
   "execution_count": 14,
   "metadata": {
    "colab": {
     "base_uri": "https://localhost:8080/",
     "height": 781
    },
    "colab_type": "code",
    "id": "L3nA1L54JeuI",
    "outputId": "90f82693-f45a-4410-e681-602b7f9e97ce"
   },
   "outputs": [
    {
     "name": "stdout",
     "output_type": "stream",
     "text": [
      "Model: \"sequential_3\"\n",
      "_________________________________________________________________\n",
      "Layer (type)                 Output Shape              Param #   \n",
      "=================================================================\n",
      "conv2d_5 (Conv2D)            (None, 32, 32, 32)        896       \n",
      "_________________________________________________________________\n",
      "batch_normalization_1 (Batch (None, 32, 32, 32)        128       \n",
      "_________________________________________________________________\n",
      "activation_9 (Activation)    (None, 32, 32, 32)        0         \n",
      "_________________________________________________________________\n",
      "conv2d_6 (Conv2D)            (None, 32, 32, 64)        18496     \n",
      "_________________________________________________________________\n",
      "batch_normalization_2 (Batch (None, 32, 32, 64)        256       \n",
      "_________________________________________________________________\n",
      "activation_10 (Activation)   (None, 32, 32, 64)        0         \n",
      "_________________________________________________________________\n",
      "max_pooling2d_3 (MaxPooling2 (None, 16, 16, 64)        0         \n",
      "_________________________________________________________________\n",
      "conv2d_7 (Conv2D)            (None, 16, 16, 64)        36928     \n",
      "_________________________________________________________________\n",
      "batch_normalization_3 (Batch (None, 16, 16, 64)        256       \n",
      "_________________________________________________________________\n",
      "activation_11 (Activation)   (None, 16, 16, 64)        0         \n",
      "_________________________________________________________________\n",
      "conv2d_8 (Conv2D)            (None, 16, 16, 64)        36928     \n",
      "_________________________________________________________________\n",
      "batch_normalization_4 (Batch (None, 16, 16, 64)        256       \n",
      "_________________________________________________________________\n",
      "activation_12 (Activation)   (None, 16, 16, 64)        0         \n",
      "_________________________________________________________________\n",
      "flatten_3 (Flatten)          (None, 16384)             0         \n",
      "_________________________________________________________________\n",
      "dropout_5 (Dropout)          (None, 16384)             0         \n",
      "_________________________________________________________________\n",
      "dense_5 (Dense)              (None, 128)               2097280   \n",
      "_________________________________________________________________\n",
      "activation_13 (Activation)   (None, 128)               0         \n",
      "_________________________________________________________________\n",
      "dense_6 (Dense)              (None, 10)                1290      \n",
      "=================================================================\n",
      "Total params: 2,192,714\n",
      "Trainable params: 2,192,266\n",
      "Non-trainable params: 448\n",
      "_________________________________________________________________\n"
     ]
    }
   ],
   "source": [
    "model3.summary()"
   ]
  },
  {
   "cell_type": "code",
   "execution_count": 15,
   "metadata": {
    "colab": {
     "base_uri": "https://localhost:8080/",
     "height": 764
    },
    "colab_type": "code",
    "id": "f7y73JrcUys2",
    "outputId": "e255149d-ed1d-4365-8a5a-c4ceda6831c5"
   },
   "outputs": [
    {
     "name": "stdout",
     "output_type": "stream",
     "text": [
      "Train on 42000 samples, validate on 8000 samples\n",
      "Epoch 1/20\n",
      "42000/42000 [==============================] - 7s 164us/step - loss: 1.6904 - acc: 0.4372 - val_loss: 1.3672 - val_acc: 0.4974\n",
      "Epoch 2/20\n",
      "42000/42000 [==============================] - 6s 134us/step - loss: 1.0367 - acc: 0.6316 - val_loss: 1.3962 - val_acc: 0.5676\n",
      "Epoch 3/20\n",
      "42000/42000 [==============================] - 6s 136us/step - loss: 0.8372 - acc: 0.7052 - val_loss: 0.9667 - val_acc: 0.6627\n",
      "Epoch 4/20\n",
      "42000/42000 [==============================] - 6s 138us/step - loss: 0.7372 - acc: 0.7373 - val_loss: 1.0293 - val_acc: 0.6579\n",
      "Epoch 5/20\n",
      "42000/42000 [==============================] - 6s 135us/step - loss: 0.6639 - acc: 0.7630 - val_loss: 0.8704 - val_acc: 0.7021\n",
      "Epoch 6/20\n",
      "42000/42000 [==============================] - 6s 137us/step - loss: 0.6017 - acc: 0.7861 - val_loss: 0.9566 - val_acc: 0.6883\n",
      "Epoch 7/20\n",
      "42000/42000 [==============================] - 6s 138us/step - loss: 0.5589 - acc: 0.8024 - val_loss: 0.8497 - val_acc: 0.7114\n",
      "Epoch 8/20\n",
      "42000/42000 [==============================] - 6s 136us/step - loss: 0.5155 - acc: 0.8197 - val_loss: 1.0059 - val_acc: 0.6886\n",
      "Epoch 9/20\n",
      "42000/42000 [==============================] - 6s 136us/step - loss: 0.4755 - acc: 0.8307 - val_loss: 0.7957 - val_acc: 0.7309\n",
      "Epoch 10/20\n",
      "42000/42000 [==============================] - 6s 137us/step - loss: 0.4447 - acc: 0.8418 - val_loss: 0.7924 - val_acc: 0.7369\n",
      "Epoch 11/20\n",
      "42000/42000 [==============================] - 6s 137us/step - loss: 0.4089 - acc: 0.8557 - val_loss: 0.9105 - val_acc: 0.7285\n",
      "Epoch 12/20\n",
      "42000/42000 [==============================] - 6s 136us/step - loss: 0.3834 - acc: 0.8646 - val_loss: 0.6806 - val_acc: 0.7749\n",
      "Epoch 13/20\n",
      "42000/42000 [==============================] - 6s 136us/step - loss: 0.3604 - acc: 0.8711 - val_loss: 0.9370 - val_acc: 0.7300\n",
      "Epoch 14/20\n",
      "42000/42000 [==============================] - 6s 136us/step - loss: 0.3393 - acc: 0.8792 - val_loss: 0.7943 - val_acc: 0.7552\n",
      "Epoch 15/20\n",
      "42000/42000 [==============================] - 6s 136us/step - loss: 0.3182 - acc: 0.8860 - val_loss: 0.7162 - val_acc: 0.7735\n",
      "Epoch 16/20\n",
      "42000/42000 [==============================] - 6s 137us/step - loss: 0.2977 - acc: 0.8921 - val_loss: 0.8306 - val_acc: 0.7590\n",
      "Epoch 17/20\n",
      "42000/42000 [==============================] - 6s 136us/step - loss: 0.2753 - acc: 0.9008 - val_loss: 0.7934 - val_acc: 0.7566\n",
      "Epoch 18/20\n",
      "42000/42000 [==============================] - 6s 137us/step - loss: 0.2644 - acc: 0.9059 - val_loss: 0.8136 - val_acc: 0.7636\n",
      "Epoch 19/20\n",
      "42000/42000 [==============================] - 6s 135us/step - loss: 0.2505 - acc: 0.9102 - val_loss: 0.8338 - val_acc: 0.7640\n",
      "Epoch 20/20\n",
      "42000/42000 [==============================] - 6s 136us/step - loss: 0.2338 - acc: 0.9158 - val_loss: 0.7986 - val_acc: 0.7729\n",
      "Test loss: 0.8293685411453247\n",
      "Test accuracy: 0.7715\n"
     ]
    }
   ],
   "source": [
    "history = model3.fit(x_train, y_train,\n",
    "          batch_size=128,\n",
    "          epochs=20,\n",
    "          verbose=1,\n",
    "          validation_split=0.16)\n",
    "score = model3.evaluate(x_test, y_test, verbose=0)\n",
    "print('Test loss:', score[0])\n",
    "print('Test accuracy:', score[1])"
   ]
  },
  {
   "cell_type": "code",
   "execution_count": 16,
   "metadata": {
    "colab": {
     "base_uri": "https://localhost:8080/",
     "height": 295
    },
    "colab_type": "code",
    "id": "uTOWgExLCbsg",
    "outputId": "45c1cd13-5f75-42a6-8949-96b26f3a5745"
   },
   "outputs": [
    {
     "data": {
      "image/png": "[encoded data removed]",
      "text/plain": [
       "<Figure size 432x288 with 1 Axes>"
      ]
     },
     "metadata": {
      "tags": []
     },
     "output_type": "display_data"
    }
   ],
   "source": [
    "plt.plot(history.history['acc'], label='training accuracy')\n",
    "plt.plot(history.history['val_acc'], label='validation accuracy')\n",
    "plt.title('Accuracy')\n",
    "plt.xlabel('epochs')\n",
    "plt.ylabel('accuracy')\n",
    "plt.legend()\n",
    "plt.show()"
   ]
  },
  {
   "cell_type": "code",
   "execution_count": 0,
   "metadata": {
    "colab": {},
    "colab_type": "code",
    "id": "FxtR1mVPNGC2"
   },
   "outputs": [],
   "source": []
  }
 ],
 "metadata": {
  "accelerator": "GPU",
  "colab": {
   "collapsed_sections": [],
   "name": "dl_tut_6_solution.ipynb",
   "provenance": []
  },
  "kernelspec": {
   "display_name": "Python 3",
   "language": "python",
   "name": "python3"
  },
  "language_info": {
   "codemirror_mode": {
    "name": "ipython",
    "version": 3
   },
   "file_extension": ".py",
   "mimetype": "text/x-python",
   "name": "python",
   "nbconvert_exporter": "python",
   "pygments_lexer": "ipython3",
   "version": "3.7.4"
  }
 },
 "nbformat": 4,
 "nbformat_minor": 1
}
